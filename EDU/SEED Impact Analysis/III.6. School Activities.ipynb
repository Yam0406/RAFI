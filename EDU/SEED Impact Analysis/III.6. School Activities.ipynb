{
 "cells": [
  {
   "cell_type": "markdown",
   "id": "8053e99a",
   "metadata": {},
   "source": [
    "# School Activities"
   ]
  },
  {
   "cell_type": "markdown",
   "id": "479b36e5",
   "metadata": {},
   "source": [
    "**Important Notes**\n",
    "- This is an initial analysis on the available data, some results may change depending on the insights in the future\n",
    "- Only used data for 2019 and computed the mean/average of the scores given by all the assessors and validators except for the Kruskal Wallis test to find out how the type of assessor affects performance/evaluation scores/rating\n",
    "- Used the following scoring system (followed the previous analysis' scoring):\n",
    "\n",
    "|Levels of Performance|Label|Range|\n",
    "|:------|:------|:------|\n",
    "|Achieved Standards     |A     |7     |\n",
    "|Progressing     |B     |greater than 4 but less than 7     |\n",
    "|Approaching     |C     |greater than 2 but less than or equal to 4     |\n",
    "|Acquiring     |D     |less than or equal to 2    |\n"
   ]
  },
  {
   "cell_type": "markdown",
   "id": "19d32b21",
   "metadata": {},
   "source": [
    "# Step 1 : Load libraries"
   ]
  },
  {
   "cell_type": "code",
   "execution_count": 1,
   "id": "866786af",
   "metadata": {},
   "outputs": [],
   "source": [
    "# import required libraries for dataframe and visualization\n",
    "\n",
    "import numpy as np\n",
    "import pandas as pd\n",
    "import matplotlib.pyplot as plt\n",
    "%matplotlib inline\n",
    "import seaborn as sns\n",
    "import datetime as dt\n",
    "\n",
    "# We dont Probably need the Gridlines. Do we? If yes comment this line\n",
    "sns.set(style=\"ticks\")\n",
    "flatui = [\"#9b59b6\", \"#3498db\", \"#95a5a6\", \"#e74c3c\", \"#34495e\", \"#2ecc71\"]\n",
    "flatui = sns.color_palette(flatui)\n",
    "\n",
    "# https://towardsdatascience.com/the-search-for-categorical-correlation-a1cf7f1888c9\n",
    "import scipy.stats as ss\n",
    "from collections import Counter\n",
    "import math \n",
    "from scipy import stats\n",
    "\n",
    "from sklearn.model_selection import cross_val_score\n",
    "from sklearn.model_selection import RepeatedKFold\n",
    "from numpy import absolute\n",
    "\n",
    "\n",
    "# import required libraries for clustering\n",
    "import sklearn\n",
    "from sklearn.preprocessing import StandardScaler\n",
    "from sklearn.cluster import KMeans\n",
    "from sklearn.metrics import silhouette_samples, silhouette_score\n",
    "from scipy.cluster.hierarchy import linkage\n",
    "from scipy.cluster.hierarchy import dendrogram\n",
    "from scipy.cluster.hierarchy import cut_tree"
   ]
  },
  {
   "cell_type": "markdown",
   "id": "ceae3d3d",
   "metadata": {},
   "source": [
    "# Step 2: Read and transform data"
   ]
  },
  {
   "cell_type": "code",
   "execution_count": 2,
   "id": "3534a8b5",
   "metadata": {
    "scrolled": true
   },
   "outputs": [
    {
     "data": {
      "text/html": [
       "<div>\n",
       "<style scoped>\n",
       "    .dataframe tbody tr th:only-of-type {\n",
       "        vertical-align: middle;\n",
       "    }\n",
       "\n",
       "    .dataframe tbody tr th {\n",
       "        vertical-align: top;\n",
       "    }\n",
       "\n",
       "    .dataframe thead th {\n",
       "        text-align: right;\n",
       "    }\n",
       "</style>\n",
       "<table border=\"1\" class=\"dataframe\">\n",
       "  <thead>\n",
       "    <tr style=\"text-align: right;\">\n",
       "      <th></th>\n",
       "      <th>raw_score</th>\n",
       "      <th>Acquiring</th>\n",
       "      <th>Approaching</th>\n",
       "      <th>Progressing</th>\n",
       "      <th>Achieved Standards</th>\n",
       "      <th>Sort_PerformanceCode</th>\n",
       "      <th>2016-2018with Site Validation</th>\n",
       "      <th>2017-2018 with Site Validation</th>\n",
       "      <th>Comparison 2016-2018</th>\n",
       "      <th>Comparison 2017-2018</th>\n",
       "      <th>...</th>\n",
       "      <th>performance_value</th>\n",
       "      <th>evaluator_id</th>\n",
       "      <th>round_num</th>\n",
       "      <th>Comparison 2016-2019</th>\n",
       "      <th>Comparison 2017-2019</th>\n",
       "      <th>2019_concat_Name</th>\n",
       "      <th>Unnamed: 27</th>\n",
       "      <th>Unnamed: 28</th>\n",
       "      <th>Unnamed: 29</th>\n",
       "      <th>Unnamed: 30</th>\n",
       "    </tr>\n",
       "  </thead>\n",
       "  <tbody>\n",
       "    <tr>\n",
       "      <th>0</th>\n",
       "      <td>7</td>\n",
       "      <td>0</td>\n",
       "      <td>0</td>\n",
       "      <td>0</td>\n",
       "      <td>1</td>\n",
       "      <td>4</td>\n",
       "      <td>1.0</td>\n",
       "      <td>1.0</td>\n",
       "      <td>3.0</td>\n",
       "      <td>2.0</td>\n",
       "      <td>...</td>\n",
       "      <td>4</td>\n",
       "      <td>34501</td>\n",
       "      <td>Community Assessment</td>\n",
       "      <td>4</td>\n",
       "      <td>3</td>\n",
       "      <td>ElementaryABLAYAN ESDalaguete II</td>\n",
       "      <td>NaN</td>\n",
       "      <td>NaN</td>\n",
       "      <td>NaN</td>\n",
       "      <td>2019_concat_Name</td>\n",
       "    </tr>\n",
       "    <tr>\n",
       "      <th>1</th>\n",
       "      <td>5</td>\n",
       "      <td>0</td>\n",
       "      <td>0</td>\n",
       "      <td>1</td>\n",
       "      <td>0</td>\n",
       "      <td>3</td>\n",
       "      <td>1.0</td>\n",
       "      <td>1.0</td>\n",
       "      <td>3.0</td>\n",
       "      <td>2.0</td>\n",
       "      <td>...</td>\n",
       "      <td>3</td>\n",
       "      <td>34501</td>\n",
       "      <td>Community Assessment</td>\n",
       "      <td>4</td>\n",
       "      <td>3</td>\n",
       "      <td>ElementaryABLAYAN ESDalaguete II</td>\n",
       "      <td>NaN</td>\n",
       "      <td>NaN</td>\n",
       "      <td>NaN</td>\n",
       "      <td>NaN</td>\n",
       "    </tr>\n",
       "    <tr>\n",
       "      <th>2</th>\n",
       "      <td>5</td>\n",
       "      <td>0</td>\n",
       "      <td>0</td>\n",
       "      <td>1</td>\n",
       "      <td>0</td>\n",
       "      <td>3</td>\n",
       "      <td>1.0</td>\n",
       "      <td>1.0</td>\n",
       "      <td>3.0</td>\n",
       "      <td>2.0</td>\n",
       "      <td>...</td>\n",
       "      <td>3</td>\n",
       "      <td>34501</td>\n",
       "      <td>Community Assessment</td>\n",
       "      <td>4</td>\n",
       "      <td>3</td>\n",
       "      <td>ElementaryABLAYAN ESDalaguete II</td>\n",
       "      <td>NaN</td>\n",
       "      <td>NaN</td>\n",
       "      <td>NaN</td>\n",
       "      <td>NaN</td>\n",
       "    </tr>\n",
       "    <tr>\n",
       "      <th>3</th>\n",
       "      <td>7</td>\n",
       "      <td>0</td>\n",
       "      <td>0</td>\n",
       "      <td>0</td>\n",
       "      <td>1</td>\n",
       "      <td>4</td>\n",
       "      <td>1.0</td>\n",
       "      <td>1.0</td>\n",
       "      <td>3.0</td>\n",
       "      <td>2.0</td>\n",
       "      <td>...</td>\n",
       "      <td>4</td>\n",
       "      <td>34501</td>\n",
       "      <td>Community Assessment</td>\n",
       "      <td>4</td>\n",
       "      <td>3</td>\n",
       "      <td>ElementaryABLAYAN ESDalaguete II</td>\n",
       "      <td>NaN</td>\n",
       "      <td>NaN</td>\n",
       "      <td>NaN</td>\n",
       "      <td>NaN</td>\n",
       "    </tr>\n",
       "    <tr>\n",
       "      <th>4</th>\n",
       "      <td>7</td>\n",
       "      <td>0</td>\n",
       "      <td>0</td>\n",
       "      <td>0</td>\n",
       "      <td>1</td>\n",
       "      <td>4</td>\n",
       "      <td>1.0</td>\n",
       "      <td>1.0</td>\n",
       "      <td>3.0</td>\n",
       "      <td>2.0</td>\n",
       "      <td>...</td>\n",
       "      <td>4</td>\n",
       "      <td>34501</td>\n",
       "      <td>Community Assessment</td>\n",
       "      <td>4</td>\n",
       "      <td>3</td>\n",
       "      <td>ElementaryABLAYAN ESDalaguete II</td>\n",
       "      <td>NaN</td>\n",
       "      <td>NaN</td>\n",
       "      <td>NaN</td>\n",
       "      <td>NaN</td>\n",
       "    </tr>\n",
       "  </tbody>\n",
       "</table>\n",
       "<p>5 rows × 31 columns</p>\n",
       "</div>"
      ],
      "text/plain": [
       "   raw_score  Acquiring  Approaching  Progressing  Achieved Standards  \\\n",
       "0          7          0            0            0                   1   \n",
       "1          5          0            0            1                   0   \n",
       "2          5          0            0            1                   0   \n",
       "3          7          0            0            0                   1   \n",
       "4          7          0            0            0                   1   \n",
       "\n",
       "   Sort_PerformanceCode  2016-2018with Site Validation  \\\n",
       "0                     4                            1.0   \n",
       "1                     3                            1.0   \n",
       "2                     3                            1.0   \n",
       "3                     4                            1.0   \n",
       "4                     4                            1.0   \n",
       "\n",
       "   2017-2018 with Site Validation  Comparison 2016-2018  Comparison 2017-2018  \\\n",
       "0                             1.0                   3.0                   2.0   \n",
       "1                             1.0                   3.0                   2.0   \n",
       "2                             1.0                   3.0                   2.0   \n",
       "3                             1.0                   3.0                   2.0   \n",
       "4                             1.0                   3.0                   2.0   \n",
       "\n",
       "   ... performance_value evaluator_id             round_num  \\\n",
       "0  ...                 4        34501  Community Assessment   \n",
       "1  ...                 3        34501  Community Assessment   \n",
       "2  ...                 3        34501  Community Assessment   \n",
       "3  ...                 4        34501  Community Assessment   \n",
       "4  ...                 4        34501  Community Assessment   \n",
       "\n",
       "  Comparison 2016-2019 Comparison 2017-2019                  2019_concat_Name  \\\n",
       "0                    4                    3  ElementaryABLAYAN ESDalaguete II   \n",
       "1                    4                    3  ElementaryABLAYAN ESDalaguete II   \n",
       "2                    4                    3  ElementaryABLAYAN ESDalaguete II   \n",
       "3                    4                    3  ElementaryABLAYAN ESDalaguete II   \n",
       "4                    4                    3  ElementaryABLAYAN ESDalaguete II   \n",
       "\n",
       "  Unnamed: 27 Unnamed: 28 Unnamed: 29       Unnamed: 30  \n",
       "0         NaN         NaN         NaN  2019_concat_Name  \n",
       "1         NaN         NaN         NaN               NaN  \n",
       "2         NaN         NaN         NaN               NaN  \n",
       "3         NaN         NaN         NaN               NaN  \n",
       "4         NaN         NaN         NaN               NaN  \n",
       "\n",
       "[5 rows x 31 columns]"
      ]
     },
     "execution_count": 2,
     "metadata": {},
     "output_type": "execute_result"
    }
   ],
   "source": [
    "# Reading the data on which analysis needs to be done\n",
    "df_main = pd.read_excel(\"SEED2019_RawData_yoy.xlsx\", sheet_name='consolidated_data')\n",
    "df_main.head()"
   ]
  },
  {
   "cell_type": "code",
   "execution_count": 3,
   "id": "61ef28d3",
   "metadata": {},
   "outputs": [
    {
     "name": "stdout",
     "output_type": "stream",
     "text": [
      "<class 'pandas.core.frame.DataFrame'>\n",
      "RangeIndex: 589365 entries, 0 to 589364\n",
      "Data columns (total 31 columns):\n",
      " #   Column                          Non-Null Count   Dtype  \n",
      "---  ------                          --------------   -----  \n",
      " 0   raw_score                       589365 non-null  int64  \n",
      " 1   Acquiring                       589365 non-null  int64  \n",
      " 2   Approaching                     589365 non-null  int64  \n",
      " 3   Progressing                     589365 non-null  int64  \n",
      " 4   Achieved Standards              589365 non-null  int64  \n",
      " 5   Sort_PerformanceCode            589365 non-null  int64  \n",
      " 6   2016-2018with Site Validation   85598 non-null   float64\n",
      " 7   2017-2018 with Site Validation  85598 non-null   float64\n",
      " 8   Comparison 2016-2018            362088 non-null  float64\n",
      " 9   Comparison 2017-2018            362088 non-null  float64\n",
      " 10  allSchools                      589365 non-null  object \n",
      " 11  allschools_year                 589365 non-null  object \n",
      " 12  2018_concatSchoolName           543941 non-null  object \n",
      " 13  2016_17concatSchoolName         482139 non-null  object \n",
      " 14  Level                           589365 non-null  object \n",
      " 15  Year                            589365 non-null  int64  \n",
      " 16  school_name                     533669 non-null  object \n",
      " 17  district_name                   533669 non-null  object \n",
      " 18  kra_name                        589365 non-null  object \n",
      " 19  indicator                       589365 non-null  object \n",
      " 20  performance_code                589365 non-null  object \n",
      " 21  performance_value               589365 non-null  int64  \n",
      " 22  evaluator_id                    589365 non-null  object \n",
      " 23  round_num                       589365 non-null  object \n",
      " 24  Comparison 2016-2019            589365 non-null  int64  \n",
      " 25  Comparison 2017-2019            589365 non-null  int64  \n",
      " 26  2019_concat_Name                589365 non-null  object \n",
      " 27  Unnamed: 27                     0 non-null       float64\n",
      " 28  Unnamed: 28                     0 non-null       float64\n",
      " 29  Unnamed: 29                     0 non-null       float64\n",
      " 30  Unnamed: 30                     1 non-null       object \n",
      "dtypes: float64(7), int64(10), object(14)\n",
      "memory usage: 139.4+ MB\n"
     ]
    }
   ],
   "source": [
    "df_main.info()"
   ]
  },
  {
   "cell_type": "code",
   "execution_count": 4,
   "id": "0a4997f5",
   "metadata": {},
   "outputs": [],
   "source": [
    "#transform data\n",
    "df_main = df_main[df_main['Year'] == 2019]\n",
    "df_main = df_main[['school_name', 'Year', 'indicator', 'raw_score']]\n",
    "df_main = df_main.groupby(['school_name', 'Year', 'indicator']).mean('raw_score').reset_index()\n",
    "df_main = df_main.pivot(index='school_name', columns='indicator', values='raw_score').reset_index()"
   ]
  },
  {
   "cell_type": "code",
   "execution_count": 5,
   "id": "4dcb776d",
   "metadata": {},
   "outputs": [],
   "source": [
    "# extract only columns to use\n",
    "numcols = [\n",
    "        'Cohort Survival Rate',  'Completion Rate', 'Drop-out Rate', \n",
    "        'Promotion Rate', 'Repetition Rate', 'School Activities', 'Innovations to Improve School Performance Indicators',\n",
    "        'Alignment of the Instructional Plan',\n",
    "       'Assessment of student performance', 'Asset Monitoring System',\n",
    "       'Budgeting Process', 'Classroom Management and Professionalism',\n",
    "       'Classroom Structure',\n",
    "       'Clean and Green: Policies, Plans and Programs',\n",
    "       'Communication Skills (Written)',\n",
    "       'Communication and Presentation Skills (Oral)',\n",
    "       'Concepts and Skills Development', 'Data Management System',\n",
    "       'Enhanced School Improvement Plan vs. Vision-Mission-Goals',\n",
    "       'Financial Procedures and Protocols',\n",
    "       'Guidance Counseling and Health Clinic',\n",
    "       'Implementation of Instructional Intervention',\n",
    "       'Instructional Assessment System', 'Instructional Materials',\n",
    "       'Integration of Education Trends',\n",
    "       'Investment Program v.v. Priority Programs and Projects',\n",
    "       'Lesson Delivery', 'Organizational Framework',\n",
    "       'Partnership and Linkages', 'Plan and Implementation',\n",
    "       'Preparation', 'Priority Improvement Areas vs. ESIP',\n",
    "       'Programs and Projects: Accomplishments',\n",
    "       'Programs and Projects: Monitoring and Evaluation',\n",
    "        'Recording of Financial Transactions',\n",
    "       'Relevance of the Instructional Plan', \n",
    "       'Reporting of Financial Condition',\n",
    "       'Resource mobilization projects and activities',\n",
    "       'Safety and Security: Policies, Plans and Programs',\n",
    "       'School Facilities (Computer Room, Home Economics Room, Learning Resource Center, Library, Admin Bldg., WatSan, Perimeter Fence, Playground, Canteen, Feeding Center)',\n",
    "       'School Governing Council By-laws',\n",
    "       'School Governing Council Functionality',\n",
    "       'School Policies: Documentation and Dissemination',\n",
    "       'School Policies: Implementation', 'School Processes',\n",
    "       'Staff Assessment System', 'Student Motivation and Participation',\n",
    "       'Teacher Competence']\n",
    "catcols = []"
   ]
  },
  {
   "cell_type": "code",
   "execution_count": 6,
   "id": "94d3779c",
   "metadata": {},
   "outputs": [],
   "source": [
    "df = df_main[numcols+catcols]"
   ]
  },
  {
   "cell_type": "code",
   "execution_count": 7,
   "id": "282ebac2",
   "metadata": {},
   "outputs": [],
   "source": [
    "traindf = df[numcols]\n",
    "#traindf = pd.concat([df[numcols], pd.get_dummies(df[catcols])],axis=1)"
   ]
  },
  {
   "cell_type": "code",
   "execution_count": 8,
   "id": "01174006",
   "metadata": {},
   "outputs": [],
   "source": [
    "# get features\n",
    "features = traindf.columns\n",
    "# drop blank\n",
    "traindf = traindf.dropna()"
   ]
  },
  {
   "cell_type": "code",
   "execution_count": 9,
   "id": "e6efefed",
   "metadata": {},
   "outputs": [],
   "source": [
    "traindf = pd.DataFrame(traindf,columns=features)"
   ]
  },
  {
   "cell_type": "code",
   "execution_count": 10,
   "id": "af751b44",
   "metadata": {},
   "outputs": [],
   "source": [
    "ind_var = 'School Activities'"
   ]
  },
  {
   "cell_type": "code",
   "execution_count": 11,
   "id": "1031f00d",
   "metadata": {},
   "outputs": [],
   "source": [
    "y = traindf[ind_var]\n",
    "X = traindf.copy()\n",
    "X.drop(['Cohort Survival Rate',  'Completion Rate', 'Drop-out Rate', \n",
    "        'Promotion Rate', 'Repetition Rate', 'School Activities', \n",
    "        'Innovations to Improve School Performance Indicators'], axis=1, inplace=True)"
   ]
  },
  {
   "cell_type": "code",
   "execution_count": 12,
   "id": "094bf33f",
   "metadata": {},
   "outputs": [
    {
     "data": {
      "text/html": [
       "<div>\n",
       "<style scoped>\n",
       "    .dataframe tbody tr th:only-of-type {\n",
       "        vertical-align: middle;\n",
       "    }\n",
       "\n",
       "    .dataframe tbody tr th {\n",
       "        vertical-align: top;\n",
       "    }\n",
       "\n",
       "    .dataframe thead th {\n",
       "        text-align: right;\n",
       "    }\n",
       "</style>\n",
       "<table border=\"1\" class=\"dataframe\">\n",
       "  <thead>\n",
       "    <tr style=\"text-align: right;\">\n",
       "      <th>indicator</th>\n",
       "      <th>Alignment of the Instructional Plan</th>\n",
       "      <th>Assessment of student performance</th>\n",
       "      <th>Asset Monitoring System</th>\n",
       "      <th>Budgeting Process</th>\n",
       "      <th>Classroom Management and Professionalism</th>\n",
       "      <th>Classroom Structure</th>\n",
       "      <th>Clean and Green: Policies, Plans and Programs</th>\n",
       "      <th>Communication Skills (Written)</th>\n",
       "      <th>Communication and Presentation Skills (Oral)</th>\n",
       "      <th>Concepts and Skills Development</th>\n",
       "      <th>...</th>\n",
       "      <th>Safety and Security: Policies, Plans and Programs</th>\n",
       "      <th>School Facilities (Computer Room, Home Economics Room, Learning Resource Center, Library, Admin Bldg., WatSan, Perimeter Fence, Playground, Canteen, Feeding Center)</th>\n",
       "      <th>School Governing Council By-laws</th>\n",
       "      <th>School Governing Council Functionality</th>\n",
       "      <th>School Policies: Documentation and Dissemination</th>\n",
       "      <th>School Policies: Implementation</th>\n",
       "      <th>School Processes</th>\n",
       "      <th>Staff Assessment System</th>\n",
       "      <th>Student Motivation and Participation</th>\n",
       "      <th>Teacher Competence</th>\n",
       "    </tr>\n",
       "  </thead>\n",
       "  <tbody>\n",
       "    <tr>\n",
       "      <th>0</th>\n",
       "      <td>5.571429</td>\n",
       "      <td>5.285714</td>\n",
       "      <td>3.857143</td>\n",
       "      <td>4.142857</td>\n",
       "      <td>5.285714</td>\n",
       "      <td>5.285714</td>\n",
       "      <td>4.714286</td>\n",
       "      <td>5.285714</td>\n",
       "      <td>4.428571</td>\n",
       "      <td>4.714286</td>\n",
       "      <td>...</td>\n",
       "      <td>5.000000</td>\n",
       "      <td>3.000000</td>\n",
       "      <td>4.428571</td>\n",
       "      <td>5.285714</td>\n",
       "      <td>5.000000</td>\n",
       "      <td>5.000000</td>\n",
       "      <td>4.714286</td>\n",
       "      <td>4.142857</td>\n",
       "      <td>3.857143</td>\n",
       "      <td>5.285714</td>\n",
       "    </tr>\n",
       "    <tr>\n",
       "      <th>1</th>\n",
       "      <td>7.000000</td>\n",
       "      <td>7.000000</td>\n",
       "      <td>7.000000</td>\n",
       "      <td>7.000000</td>\n",
       "      <td>6.200000</td>\n",
       "      <td>7.000000</td>\n",
       "      <td>7.000000</td>\n",
       "      <td>7.000000</td>\n",
       "      <td>7.000000</td>\n",
       "      <td>6.600000</td>\n",
       "      <td>...</td>\n",
       "      <td>7.000000</td>\n",
       "      <td>7.000000</td>\n",
       "      <td>6.200000</td>\n",
       "      <td>7.000000</td>\n",
       "      <td>7.000000</td>\n",
       "      <td>5.800000</td>\n",
       "      <td>6.600000</td>\n",
       "      <td>7.000000</td>\n",
       "      <td>7.000000</td>\n",
       "      <td>6.600000</td>\n",
       "    </tr>\n",
       "    <tr>\n",
       "      <th>2</th>\n",
       "      <td>3.000000</td>\n",
       "      <td>3.000000</td>\n",
       "      <td>3.666667</td>\n",
       "      <td>3.666667</td>\n",
       "      <td>3.000000</td>\n",
       "      <td>3.666667</td>\n",
       "      <td>4.333333</td>\n",
       "      <td>3.000000</td>\n",
       "      <td>3.000000</td>\n",
       "      <td>3.000000</td>\n",
       "      <td>...</td>\n",
       "      <td>3.666667</td>\n",
       "      <td>3.666667</td>\n",
       "      <td>3.000000</td>\n",
       "      <td>3.000000</td>\n",
       "      <td>3.666667</td>\n",
       "      <td>3.666667</td>\n",
       "      <td>3.000000</td>\n",
       "      <td>3.000000</td>\n",
       "      <td>3.000000</td>\n",
       "      <td>3.000000</td>\n",
       "    </tr>\n",
       "    <tr>\n",
       "      <th>3</th>\n",
       "      <td>6.600000</td>\n",
       "      <td>6.600000</td>\n",
       "      <td>1.800000</td>\n",
       "      <td>1.800000</td>\n",
       "      <td>6.600000</td>\n",
       "      <td>6.600000</td>\n",
       "      <td>3.000000</td>\n",
       "      <td>5.000000</td>\n",
       "      <td>6.600000</td>\n",
       "      <td>6.600000</td>\n",
       "      <td>...</td>\n",
       "      <td>3.400000</td>\n",
       "      <td>3.400000</td>\n",
       "      <td>1.800000</td>\n",
       "      <td>1.800000</td>\n",
       "      <td>5.000000</td>\n",
       "      <td>5.000000</td>\n",
       "      <td>4.200000</td>\n",
       "      <td>3.400000</td>\n",
       "      <td>6.600000</td>\n",
       "      <td>6.600000</td>\n",
       "    </tr>\n",
       "    <tr>\n",
       "      <th>4</th>\n",
       "      <td>5.000000</td>\n",
       "      <td>3.000000</td>\n",
       "      <td>3.000000</td>\n",
       "      <td>3.000000</td>\n",
       "      <td>3.666667</td>\n",
       "      <td>3.000000</td>\n",
       "      <td>5.000000</td>\n",
       "      <td>4.333333</td>\n",
       "      <td>5.000000</td>\n",
       "      <td>3.000000</td>\n",
       "      <td>...</td>\n",
       "      <td>3.000000</td>\n",
       "      <td>3.666667</td>\n",
       "      <td>3.000000</td>\n",
       "      <td>5.000000</td>\n",
       "      <td>5.000000</td>\n",
       "      <td>3.000000</td>\n",
       "      <td>5.000000</td>\n",
       "      <td>5.000000</td>\n",
       "      <td>5.000000</td>\n",
       "      <td>5.000000</td>\n",
       "    </tr>\n",
       "  </tbody>\n",
       "</table>\n",
       "<p>5 rows × 41 columns</p>\n",
       "</div>"
      ],
      "text/plain": [
       "indicator  Alignment of the Instructional Plan  \\\n",
       "0                                     5.571429   \n",
       "1                                     7.000000   \n",
       "2                                     3.000000   \n",
       "3                                     6.600000   \n",
       "4                                     5.000000   \n",
       "\n",
       "indicator  Assessment of student performance  Asset Monitoring System  \\\n",
       "0                                   5.285714                 3.857143   \n",
       "1                                   7.000000                 7.000000   \n",
       "2                                   3.000000                 3.666667   \n",
       "3                                   6.600000                 1.800000   \n",
       "4                                   3.000000                 3.000000   \n",
       "\n",
       "indicator  Budgeting Process  Classroom Management and Professionalism  \\\n",
       "0                   4.142857                                  5.285714   \n",
       "1                   7.000000                                  6.200000   \n",
       "2                   3.666667                                  3.000000   \n",
       "3                   1.800000                                  6.600000   \n",
       "4                   3.000000                                  3.666667   \n",
       "\n",
       "indicator  Classroom Structure  Clean and Green: Policies, Plans and Programs  \\\n",
       "0                     5.285714                                       4.714286   \n",
       "1                     7.000000                                       7.000000   \n",
       "2                     3.666667                                       4.333333   \n",
       "3                     6.600000                                       3.000000   \n",
       "4                     3.000000                                       5.000000   \n",
       "\n",
       "indicator  Communication Skills (Written)  \\\n",
       "0                                5.285714   \n",
       "1                                7.000000   \n",
       "2                                3.000000   \n",
       "3                                5.000000   \n",
       "4                                4.333333   \n",
       "\n",
       "indicator  Communication and Presentation Skills (Oral)  \\\n",
       "0                                              4.428571   \n",
       "1                                              7.000000   \n",
       "2                                              3.000000   \n",
       "3                                              6.600000   \n",
       "4                                              5.000000   \n",
       "\n",
       "indicator  Concepts and Skills Development  ...  \\\n",
       "0                                 4.714286  ...   \n",
       "1                                 6.600000  ...   \n",
       "2                                 3.000000  ...   \n",
       "3                                 6.600000  ...   \n",
       "4                                 3.000000  ...   \n",
       "\n",
       "indicator  Safety and Security: Policies, Plans and Programs  \\\n",
       "0                                                   5.000000   \n",
       "1                                                   7.000000   \n",
       "2                                                   3.666667   \n",
       "3                                                   3.400000   \n",
       "4                                                   3.000000   \n",
       "\n",
       "indicator  School Facilities (Computer Room, Home Economics Room, Learning Resource Center, Library, Admin Bldg., WatSan, Perimeter Fence, Playground, Canteen, Feeding Center)  \\\n",
       "0                                                   3.000000                                                                                                                      \n",
       "1                                                   7.000000                                                                                                                      \n",
       "2                                                   3.666667                                                                                                                      \n",
       "3                                                   3.400000                                                                                                                      \n",
       "4                                                   3.666667                                                                                                                      \n",
       "\n",
       "indicator  School Governing Council By-laws  \\\n",
       "0                                  4.428571   \n",
       "1                                  6.200000   \n",
       "2                                  3.000000   \n",
       "3                                  1.800000   \n",
       "4                                  3.000000   \n",
       "\n",
       "indicator  School Governing Council Functionality  \\\n",
       "0                                        5.285714   \n",
       "1                                        7.000000   \n",
       "2                                        3.000000   \n",
       "3                                        1.800000   \n",
       "4                                        5.000000   \n",
       "\n",
       "indicator  School Policies: Documentation and Dissemination  \\\n",
       "0                                                  5.000000   \n",
       "1                                                  7.000000   \n",
       "2                                                  3.666667   \n",
       "3                                                  5.000000   \n",
       "4                                                  5.000000   \n",
       "\n",
       "indicator  School Policies: Implementation  School Processes  \\\n",
       "0                                 5.000000          4.714286   \n",
       "1                                 5.800000          6.600000   \n",
       "2                                 3.666667          3.000000   \n",
       "3                                 5.000000          4.200000   \n",
       "4                                 3.000000          5.000000   \n",
       "\n",
       "indicator  Staff Assessment System  Student Motivation and Participation  \\\n",
       "0                         4.142857                              3.857143   \n",
       "1                         7.000000                              7.000000   \n",
       "2                         3.000000                              3.000000   \n",
       "3                         3.400000                              6.600000   \n",
       "4                         5.000000                              5.000000   \n",
       "\n",
       "indicator  Teacher Competence  \n",
       "0                    5.285714  \n",
       "1                    6.600000  \n",
       "2                    3.000000  \n",
       "3                    6.600000  \n",
       "4                    5.000000  \n",
       "\n",
       "[5 rows x 41 columns]"
      ]
     },
     "execution_count": 12,
     "metadata": {},
     "output_type": "execute_result"
    }
   ],
   "source": [
    "X.head()"
   ]
  },
  {
   "cell_type": "code",
   "execution_count": 13,
   "id": "a5080a47",
   "metadata": {},
   "outputs": [
    {
     "data": {
      "text/plain": [
       "41"
      ]
     },
     "execution_count": 13,
     "metadata": {},
     "output_type": "execute_result"
    }
   ],
   "source": [
    "len(X.columns)"
   ]
  },
  {
   "cell_type": "markdown",
   "id": "02af11ea",
   "metadata": {},
   "source": [
    "### Set some parameters"
   ]
  },
  {
   "cell_type": "code",
   "execution_count": 14,
   "id": "d4691b6b",
   "metadata": {},
   "outputs": [],
   "source": [
    "feature_name = list(X.columns)\n",
    "# no of maximum features we need to select\n",
    "num_feats=10"
   ]
  },
  {
   "cell_type": "markdown",
   "id": "80580d9f",
   "metadata": {},
   "source": [
    "# Step 3: Feature Selection/Importance"
   ]
  },
  {
   "cell_type": "markdown",
   "id": "15d02d8b",
   "metadata": {},
   "source": [
    "## 1. Pearson Correlation"
   ]
  },
  {
   "cell_type": "markdown",
   "id": "55f9b893",
   "metadata": {},
   "source": [
    "This is a filter-based method.  We check the absolute value of the Pearson's correlation between the target and numerical features in our dataset. We keep the top n features based on this criterion."
   ]
  },
  {
   "cell_type": "code",
   "execution_count": 15,
   "id": "8b974f5f",
   "metadata": {},
   "outputs": [
    {
     "name": "stdout",
     "output_type": "stream",
     "text": [
      "10 selected features\n"
     ]
    }
   ],
   "source": [
    "def cor_selector(X, y,num_feats):\n",
    "    cor_list = []\n",
    "    feature_name = X.columns.tolist()\n",
    "    # calculate the correlation with y for each feature\n",
    "    for i in X.columns.tolist():\n",
    "        cor = np.corrcoef(X[i], y)[0, 1]\n",
    "        cor_list.append(cor)\n",
    "    # replace NaN with 0\n",
    "    cor_list = [0 if np.isnan(i) else i for i in cor_list]\n",
    "    # feature name\n",
    "    cor_feature = X.iloc[:,np.argsort(np.abs(cor_list))[-num_feats:]].columns.tolist()\n",
    "    # feature selection? 0 for not select, 1 for select\n",
    "    cor_support = [True if i in cor_feature else False for i in feature_name]\n",
    "    return cor_support, cor_feature\n",
    "cor_support, cor_feature = cor_selector(X, y,num_feats)\n",
    "print(str(len(cor_feature)), 'selected features')"
   ]
  },
  {
   "cell_type": "code",
   "execution_count": 16,
   "id": "fad1a52f",
   "metadata": {},
   "outputs": [
    {
     "data": {
      "text/plain": [
       "['Communication Skills (Written)',\n",
       " 'Plan and Implementation',\n",
       " 'Financial Procedures and Protocols',\n",
       " 'Resource mobilization projects and activities',\n",
       " 'Instructional Assessment System',\n",
       " 'School Policies: Documentation and Dissemination',\n",
       " 'Staff Assessment System',\n",
       " 'Asset Monitoring System',\n",
       " 'Guidance Counseling and Health Clinic',\n",
       " 'Safety and Security: Policies, Plans and Programs']"
      ]
     },
     "execution_count": 16,
     "metadata": {},
     "output_type": "execute_result"
    }
   ],
   "source": [
    "cor_feature"
   ]
  },
  {
   "cell_type": "code",
   "execution_count": 17,
   "id": "74c70dbc",
   "metadata": {},
   "outputs": [
    {
     "data": {
      "text/plain": [
       "<AxesSubplot:xlabel='indicator', ylabel='indicator'>"
      ]
     },
     "execution_count": 17,
     "metadata": {},
     "output_type": "execute_result"
    },
    {
     "data": {
      "image/png": "[encoded data removed]",
      "text/plain": [
       "<Figure size 720x432 with 2 Axes>"
      ]
     },
     "metadata": {},
     "output_type": "display_data"
    }
   ],
   "source": [
    "# visualize\n",
    "cor = df.corr()\n",
    "\n",
    "# heatmap\n",
    "plt.figure(figsize = (10,6))\n",
    "sns.heatmap(cor, annot=True)"
   ]
  },
  {
   "cell_type": "markdown",
   "id": "2381c5f0",
   "metadata": {},
   "source": [
    "## 2. Chi-Square Features"
   ]
  },
  {
   "cell_type": "markdown",
   "id": "0cf770b9",
   "metadata": {},
   "source": [
    "This is another filter-based method.  In this method, we calculate the chi-square metric between the target and the numerical variable and only select the variable with the maximum chi-squared values."
   ]
  },
  {
   "cell_type": "code",
   "execution_count": 18,
   "id": "db66e5ca",
   "metadata": {},
   "outputs": [
    {
     "name": "stdout",
     "output_type": "stream",
     "text": [
      "10 selected features\n"
     ]
    }
   ],
   "source": [
    "from sklearn.feature_selection import SelectKBest\n",
    "from sklearn.feature_selection import chi2\n",
    "from sklearn.preprocessing import MinMaxScaler\n",
    "X_norm = MinMaxScaler().fit_transform(X)\n",
    "chi_selector = SelectKBest(chi2, k=num_feats)\n",
    "\n",
    "Y=y.astype('int')\n",
    "\n",
    "chi_selector.fit(X_norm, Y)\n",
    "chi_support = chi_selector.get_support()\n",
    "chi_feature = X.loc[:,chi_support].columns.tolist()\n",
    "print(str(len(chi_feature)), 'selected features')"
   ]
  },
  {
   "cell_type": "code",
   "execution_count": 19,
   "id": "351275f6",
   "metadata": {},
   "outputs": [
    {
     "data": {
      "text/plain": [
       "['Budgeting Process',\n",
       " 'Clean and Green: Policies, Plans and Programs',\n",
       " 'Guidance Counseling and Health Clinic',\n",
       " 'Partnership and Linkages',\n",
       " 'Plan and Implementation',\n",
       " 'Programs and Projects: Accomplishments',\n",
       " 'Resource mobilization projects and activities',\n",
       " 'Safety and Security: Policies, Plans and Programs',\n",
       " 'School Policies: Implementation',\n",
       " 'School Processes']"
      ]
     },
     "execution_count": 19,
     "metadata": {},
     "output_type": "execute_result"
    }
   ],
   "source": [
    "chi_feature"
   ]
  },
  {
   "cell_type": "code",
   "execution_count": 20,
   "id": "69b4e984",
   "metadata": {},
   "outputs": [],
   "source": [
    "names = X.columns.values[chi_selector.get_support()]\n",
    "scores = chi_selector.scores_[chi_selector.get_support()]"
   ]
  },
  {
   "cell_type": "code",
   "execution_count": 21,
   "id": "efe206fb",
   "metadata": {},
   "outputs": [
    {
     "name": "stdout",
     "output_type": "stream",
     "text": [
      "                                          Feat_names   F_Scores\n",
      "2              Guidance Counseling and Health Clinic  47.910226\n",
      "6      Resource mobilization projects and activities  46.677380\n",
      "3                           Partnership and Linkages  46.287590\n",
      "7  Safety and Security: Policies, Plans and Programs  45.645617\n",
      "8                    School Policies: Implementation  44.540274\n",
      "1      Clean and Green: Policies, Plans and Programs  43.631672\n",
      "9                                   School Processes  43.033367\n",
      "5             Programs and Projects: Accomplishments  41.309150\n",
      "0                                  Budgeting Process  40.997130\n",
      "4                            Plan and Implementation  39.685544\n"
     ]
    }
   ],
   "source": [
    "names_scores = list(zip(names, scores))\n",
    "ns_df = pd.DataFrame(data = names_scores, columns=['Feat_names', 'F_Scores'])\n",
    "#Sort the dataframe for better visualization\n",
    "ns_df_sorted = ns_df.sort_values(['F_Scores', 'Feat_names'], ascending = [False, True])\n",
    "print(ns_df_sorted)"
   ]
  },
  {
   "cell_type": "markdown",
   "id": "46085c7f",
   "metadata": {},
   "source": [
    "## 3. Recursive Feature Elimination"
   ]
  },
  {
   "cell_type": "markdown",
   "id": "f5fa8d49",
   "metadata": {},
   "source": [
    "This is a wrapper based method. As I said before, wrapper methods consider the selection of a set of features as a search problem.  From sklearn Documentation:\n",
    "\n",
    "    The goal of recursive feature elimination (RFE) is to select features by recursively considering smaller and smaller sets of features. First, the estimator is trained on the initial set of features and the importance of each feature is obtained either through a coef_ attribute or through a featureimportances attribute. Then, the least important features are pruned from current set of features. That procedure is recursively repeated on the pruned set until the desired number of features to select is eventually reached.\n",
    "\n",
    "As you would have guessed we could use any estimator with the method. In this case, we use LogisticRegression and the RFE observes the coef_ attribute of the LogisticRegression object"
   ]
  },
  {
   "cell_type": "code",
   "execution_count": 22,
   "id": "26bbe945",
   "metadata": {},
   "outputs": [
    {
     "name": "stdout",
     "output_type": "stream",
     "text": [
      "Fitting estimator with 41 features.\n",
      "Fitting estimator with 31 features.\n",
      "Fitting estimator with 21 features.\n"
     ]
    },
    {
     "name": "stderr",
     "output_type": "stream",
     "text": [
      "C:\\Users\\Morax\\anaconda3\\lib\\site-packages\\sklearn\\linear_model\\_logistic.py:763: ConvergenceWarning: lbfgs failed to converge (status=1):\n",
      "STOP: TOTAL NO. of ITERATIONS REACHED LIMIT.\n",
      "\n",
      "Increase the number of iterations (max_iter) or scale the data as shown in:\n",
      "    https://scikit-learn.org/stable/modules/preprocessing.html\n",
      "Please also refer to the documentation for alternative solver options:\n",
      "    https://scikit-learn.org/stable/modules/linear_model.html#logistic-regression\n",
      "  n_iter_i = _check_optimize_result(\n",
      "C:\\Users\\Morax\\anaconda3\\lib\\site-packages\\sklearn\\linear_model\\_logistic.py:763: ConvergenceWarning: lbfgs failed to converge (status=1):\n",
      "STOP: TOTAL NO. of ITERATIONS REACHED LIMIT.\n",
      "\n",
      "Increase the number of iterations (max_iter) or scale the data as shown in:\n",
      "    https://scikit-learn.org/stable/modules/preprocessing.html\n",
      "Please also refer to the documentation for alternative solver options:\n",
      "    https://scikit-learn.org/stable/modules/linear_model.html#logistic-regression\n",
      "  n_iter_i = _check_optimize_result(\n",
      "C:\\Users\\Morax\\anaconda3\\lib\\site-packages\\sklearn\\linear_model\\_logistic.py:763: ConvergenceWarning: lbfgs failed to converge (status=1):\n",
      "STOP: TOTAL NO. of ITERATIONS REACHED LIMIT.\n",
      "\n",
      "Increase the number of iterations (max_iter) or scale the data as shown in:\n",
      "    https://scikit-learn.org/stable/modules/preprocessing.html\n",
      "Please also refer to the documentation for alternative solver options:\n",
      "    https://scikit-learn.org/stable/modules/linear_model.html#logistic-regression\n",
      "  n_iter_i = _check_optimize_result(\n",
      "C:\\Users\\Morax\\anaconda3\\lib\\site-packages\\sklearn\\linear_model\\_logistic.py:763: ConvergenceWarning: lbfgs failed to converge (status=1):\n",
      "STOP: TOTAL NO. of ITERATIONS REACHED LIMIT.\n",
      "\n",
      "Increase the number of iterations (max_iter) or scale the data as shown in:\n",
      "    https://scikit-learn.org/stable/modules/preprocessing.html\n",
      "Please also refer to the documentation for alternative solver options:\n",
      "    https://scikit-learn.org/stable/modules/linear_model.html#logistic-regression\n",
      "  n_iter_i = _check_optimize_result(\n"
     ]
    },
    {
     "name": "stdout",
     "output_type": "stream",
     "text": [
      "Fitting estimator with 11 features.\n"
     ]
    },
    {
     "name": "stderr",
     "output_type": "stream",
     "text": [
      "C:\\Users\\Morax\\anaconda3\\lib\\site-packages\\sklearn\\linear_model\\_logistic.py:763: ConvergenceWarning: lbfgs failed to converge (status=1):\n",
      "STOP: TOTAL NO. of ITERATIONS REACHED LIMIT.\n",
      "\n",
      "Increase the number of iterations (max_iter) or scale the data as shown in:\n",
      "    https://scikit-learn.org/stable/modules/preprocessing.html\n",
      "Please also refer to the documentation for alternative solver options:\n",
      "    https://scikit-learn.org/stable/modules/linear_model.html#logistic-regression\n",
      "  n_iter_i = _check_optimize_result(\n"
     ]
    },
    {
     "data": {
      "text/plain": [
       "RFE(estimator=LogisticRegression(random_state=123), n_features_to_select=10,\n",
       "    step=10, verbose=5)"
      ]
     },
     "execution_count": 22,
     "metadata": {},
     "output_type": "execute_result"
    }
   ],
   "source": [
    "from sklearn.feature_selection import RFE\n",
    "from sklearn.linear_model import LogisticRegression\n",
    "rfe_selector = RFE(estimator=LogisticRegression(random_state=123), n_features_to_select=num_feats, step=10, verbose=5)\n",
    "rfe_selector.fit(X_norm, Y)"
   ]
  },
  {
   "cell_type": "code",
   "execution_count": 23,
   "id": "dfa344fa",
   "metadata": {},
   "outputs": [
    {
     "name": "stdout",
     "output_type": "stream",
     "text": [
      "10 selected features\n"
     ]
    }
   ],
   "source": [
    "rfe_support = rfe_selector.get_support()\n",
    "rfe_feature = X.loc[:,rfe_support].columns.tolist()\n",
    "print(str(len(rfe_feature)), 'selected features')"
   ]
  },
  {
   "cell_type": "code",
   "execution_count": 24,
   "id": "27111d0b",
   "metadata": {},
   "outputs": [
    {
     "data": {
      "text/plain": [
       "['Asset Monitoring System',\n",
       " 'Enhanced School Improvement Plan vs. Vision-Mission-Goals',\n",
       " 'Financial Procedures and Protocols',\n",
       " 'Guidance Counseling and Health Clinic',\n",
       " 'Instructional Assessment System',\n",
       " 'Reporting of Financial Condition',\n",
       " 'Safety and Security: Policies, Plans and Programs',\n",
       " 'School Facilities (Computer Room, Home Economics Room, Learning Resource Center, Library, Admin Bldg., WatSan, Perimeter Fence, Playground, Canteen, Feeding Center)',\n",
       " 'School Processes',\n",
       " 'Staff Assessment System']"
      ]
     },
     "execution_count": 24,
     "metadata": {},
     "output_type": "execute_result"
    }
   ],
   "source": [
    "rfe_feature"
   ]
  },
  {
   "cell_type": "markdown",
   "id": "61d898d5",
   "metadata": {},
   "source": [
    "## 4. Lasso: SelectFromModel"
   ]
  },
  {
   "cell_type": "markdown",
   "id": "26f1cb87",
   "metadata": {},
   "source": [
    "This is an Embedded method. As said before, Embedded methods use algorithms that have built-in feature selection methods.  For example, Lasso, and RF have their own feature selection methods. Lasso Regularizer forces a lot of feature weights to be zero.  Here we use Lasso to select variables."
   ]
  },
  {
   "cell_type": "code",
   "execution_count": 25,
   "id": "a9e13ea2",
   "metadata": {},
   "outputs": [
    {
     "name": "stderr",
     "output_type": "stream",
     "text": [
      "C:\\Users\\Morax\\anaconda3\\lib\\site-packages\\sklearn\\linear_model\\_logistic.py:763: ConvergenceWarning: lbfgs failed to converge (status=1):\n",
      "STOP: TOTAL NO. of ITERATIONS REACHED LIMIT.\n",
      "\n",
      "Increase the number of iterations (max_iter) or scale the data as shown in:\n",
      "    https://scikit-learn.org/stable/modules/preprocessing.html\n",
      "Please also refer to the documentation for alternative solver options:\n",
      "    https://scikit-learn.org/stable/modules/linear_model.html#logistic-regression\n",
      "  n_iter_i = _check_optimize_result(\n"
     ]
    },
    {
     "data": {
      "text/plain": [
       "SelectFromModel(estimator=LogisticRegression(random_state=123), max_features=10)"
      ]
     },
     "execution_count": 25,
     "metadata": {},
     "output_type": "execute_result"
    }
   ],
   "source": [
    "from sklearn.feature_selection import SelectFromModel\n",
    "from sklearn.linear_model import LogisticRegression\n",
    "\n",
    "embeded_lr_selector = SelectFromModel(LogisticRegression(penalty=\"l2\", random_state=123), max_features=num_feats)\n",
    "embeded_lr_selector.fit(X_norm, Y)"
   ]
  },
  {
   "cell_type": "code",
   "execution_count": 26,
   "id": "22351922",
   "metadata": {},
   "outputs": [
    {
     "name": "stdout",
     "output_type": "stream",
     "text": [
      "10 selected features\n"
     ]
    }
   ],
   "source": [
    "embeded_lr_support = embeded_lr_selector.get_support()\n",
    "embeded_lr_feature = X.loc[:,embeded_lr_support].columns.tolist()\n",
    "print(str(len(embeded_lr_feature)), 'selected features')"
   ]
  },
  {
   "cell_type": "code",
   "execution_count": 27,
   "id": "1fa0d517",
   "metadata": {},
   "outputs": [
    {
     "data": {
      "text/plain": [
       "['Asset Monitoring System',\n",
       " 'Enhanced School Improvement Plan vs. Vision-Mission-Goals',\n",
       " 'Financial Procedures and Protocols',\n",
       " 'Guidance Counseling and Health Clinic',\n",
       " 'Implementation of Instructional Intervention',\n",
       " 'Priority Improvement Areas vs. ESIP',\n",
       " 'Reporting of Financial Condition',\n",
       " 'Safety and Security: Policies, Plans and Programs',\n",
       " 'School Facilities (Computer Room, Home Economics Room, Learning Resource Center, Library, Admin Bldg., WatSan, Perimeter Fence, Playground, Canteen, Feeding Center)',\n",
       " 'School Processes']"
      ]
     },
     "execution_count": 27,
     "metadata": {},
     "output_type": "execute_result"
    }
   ],
   "source": [
    "embeded_lr_feature"
   ]
  },
  {
   "cell_type": "markdown",
   "id": "d1dcf74a",
   "metadata": {},
   "source": [
    "## 5. Tree-based: SelectFromModelm"
   ]
  },
  {
   "cell_type": "markdown",
   "id": "f1700287",
   "metadata": {},
   "source": [
    "This is an Embedded method. As said before, Embedded methods use algorithms that have built-in feature selection methods. We can also use RandomForest to select features based on feature importance. We calculate feature importance using node impurities in each decision tree. In Random forest, the final feature importance is the average of all decision tree feature importance."
   ]
  },
  {
   "cell_type": "code",
   "execution_count": 28,
   "id": "874f08c5",
   "metadata": {},
   "outputs": [
    {
     "data": {
      "text/plain": [
       "SelectFromModel(estimator=RandomForestClassifier(random_state=123),\n",
       "                max_features=10)"
      ]
     },
     "execution_count": 28,
     "metadata": {},
     "output_type": "execute_result"
    }
   ],
   "source": [
    "from sklearn.feature_selection import SelectFromModel\n",
    "from sklearn.ensemble import RandomForestClassifier\n",
    "\n",
    "embeded_rf_selector = SelectFromModel(RandomForestClassifier(n_estimators=100, random_state=123), max_features=num_feats)\n",
    "embeded_rf_selector.fit(X, Y)"
   ]
  },
  {
   "cell_type": "code",
   "execution_count": 29,
   "id": "b3ed8fc4",
   "metadata": {},
   "outputs": [
    {
     "name": "stdout",
     "output_type": "stream",
     "text": [
      "10 selected features\n"
     ]
    }
   ],
   "source": [
    "embeded_rf_support = embeded_rf_selector.get_support()\n",
    "embeded_rf_feature = X.loc[:,embeded_rf_support].columns.tolist()\n",
    "print(str(len(embeded_rf_feature)), 'selected features')"
   ]
  },
  {
   "cell_type": "code",
   "execution_count": 30,
   "id": "cf670ae2",
   "metadata": {},
   "outputs": [
    {
     "data": {
      "text/plain": [
       "['Assessment of student performance',\n",
       " 'Asset Monitoring System',\n",
       " 'Financial Procedures and Protocols',\n",
       " 'Guidance Counseling and Health Clinic',\n",
       " 'Partnership and Linkages',\n",
       " 'Plan and Implementation',\n",
       " 'Programs and Projects: Monitoring and Evaluation',\n",
       " 'Resource mobilization projects and activities',\n",
       " 'Safety and Security: Policies, Plans and Programs',\n",
       " 'Staff Assessment System']"
      ]
     },
     "execution_count": 30,
     "metadata": {},
     "output_type": "execute_result"
    }
   ],
   "source": [
    "embeded_rf_feature"
   ]
  },
  {
   "cell_type": "markdown",
   "id": "8645c3f7",
   "metadata": {},
   "source": [
    "We could also have used a LightGBM. Or an XGBoost object as long it has a featureimportances attribute."
   ]
  },
  {
   "cell_type": "code",
   "execution_count": 31,
   "id": "f8e8168c",
   "metadata": {},
   "outputs": [
    {
     "data": {
      "text/html": [
       "<style type='text/css'>\n",
       ".datatable table.frame { margin-bottom: 0; }\n",
       ".datatable table.frame thead { border-bottom: none; }\n",
       ".datatable table.frame tr.coltypes td {  color: #FFFFFF;  line-height: 6px;  padding: 0 0.5em;}\n",
       ".datatable .bool    { background: #DDDD99; }\n",
       ".datatable .object  { background: #565656; }\n",
       ".datatable .int     { background: #5D9E5D; }\n",
       ".datatable .float   { background: #4040CC; }\n",
       ".datatable .str     { background: #CC4040; }\n",
       ".datatable .time    { background: #40CC40; }\n",
       ".datatable .row_index {  background: var(--jp-border-color3);  border-right: 1px solid var(--jp-border-color0);  color: var(--jp-ui-font-color3);  font-size: 9px;}\n",
       ".datatable .frame tbody td { text-align: left; }\n",
       ".datatable .frame tr.coltypes .row_index {  background: var(--jp-border-color0);}\n",
       ".datatable th:nth-child(2) { padding-left: 12px; }\n",
       ".datatable .hellipsis {  color: var(--jp-cell-editor-border-color);}\n",
       ".datatable .vellipsis {  background: var(--jp-layout-color0);  color: var(--jp-cell-editor-border-color);}\n",
       ".datatable .na {  color: var(--jp-cell-editor-border-color);  font-size: 80%;}\n",
       ".datatable .sp {  opacity: 0.25;}\n",
       ".datatable .footer { font-size: 9px; }\n",
       ".datatable .frame_dimensions {  background: var(--jp-border-color3);  border-top: 1px solid var(--jp-border-color0);  color: var(--jp-ui-font-color3);  display: inline-block;  opacity: 0.6;  padding: 1px 10px 1px 5px;}\n",
       "</style>\n"
      ],
      "text/plain": [
       "<IPython.core.display.HTML object>"
      ]
     },
     "metadata": {},
     "output_type": "display_data"
    },
    {
     "data": {
      "text/plain": [
       "SelectFromModel(estimator=LGBMClassifier(colsample_bytree=0.2,\n",
       "                                         learning_rate=0.05,\n",
       "                                         min_child_weight=40,\n",
       "                                         min_split_gain=0.01, n_estimators=500,\n",
       "                                         num_leaves=32, random_state=123,\n",
       "                                         reg_alpha=3, reg_lambda=1),\n",
       "                max_features=10)"
      ]
     },
     "execution_count": 31,
     "metadata": {},
     "output_type": "execute_result"
    }
   ],
   "source": [
    "from sklearn.feature_selection import SelectFromModel\n",
    "from lightgbm import LGBMClassifier\n",
    "\n",
    "import re\n",
    "X_renamed = X.rename(columns = lambda x:re.sub('[^A-Za-z0-9_]+', '', x))\n",
    "\n",
    "lgbc=LGBMClassifier(n_estimators=500, learning_rate=0.05, num_leaves=32, colsample_bytree=0.2,\n",
    "            reg_alpha=3, reg_lambda=1, min_split_gain=0.01, min_child_weight=40, random_state=123)\n",
    "\n",
    "embeded_lgb_selector = SelectFromModel(lgbc, max_features=num_feats)\n",
    "embeded_lgb_selector.fit(X_renamed, Y)"
   ]
  },
  {
   "cell_type": "code",
   "execution_count": 32,
   "id": "7b2a8a5d",
   "metadata": {},
   "outputs": [
    {
     "name": "stdout",
     "output_type": "stream",
     "text": [
      "10 selected features\n"
     ]
    }
   ],
   "source": [
    "embeded_lgb_support = embeded_lgb_selector.get_support()\n",
    "embeded_lgb_feature = X.loc[:,embeded_lgb_support].columns.tolist()\n",
    "print(str(len(embeded_lgb_feature)), 'selected features')"
   ]
  },
  {
   "cell_type": "code",
   "execution_count": 33,
   "id": "2502ec6e",
   "metadata": {},
   "outputs": [
    {
     "data": {
      "text/plain": [
       "['Alignment of the Instructional Plan',\n",
       " 'Clean and Green: Policies, Plans and Programs',\n",
       " 'Enhanced School Improvement Plan vs. Vision-Mission-Goals',\n",
       " 'Financial Procedures and Protocols',\n",
       " 'Plan and Implementation',\n",
       " 'Programs and Projects: Accomplishments',\n",
       " 'Safety and Security: Policies, Plans and Programs',\n",
       " 'School Facilities (Computer Room, Home Economics Room, Learning Resource Center, Library, Admin Bldg., WatSan, Perimeter Fence, Playground, Canteen, Feeding Center)',\n",
       " 'School Governing Council By-laws',\n",
       " 'Staff Assessment System']"
      ]
     },
     "execution_count": 33,
     "metadata": {},
     "output_type": "execute_result"
    }
   ],
   "source": [
    "embeded_lgb_feature"
   ]
  },
  {
   "cell_type": "markdown",
   "id": "382fe8d0",
   "metadata": {},
   "source": [
    "## Combine all feature selection methods"
   ]
  },
  {
   "cell_type": "code",
   "execution_count": 34,
   "id": "3ea3dca2",
   "metadata": {},
   "outputs": [
    {
     "name": "stderr",
     "output_type": "stream",
     "text": [
      "C:\\Users\\Morax\\anaconda3\\lib\\site-packages\\numpy\\core\\fromnumeric.py:85: FutureWarning: Dropping of nuisance columns in DataFrame reductions (with 'numeric_only=None') is deprecated; in a future version this will raise TypeError.  Select only valid columns before calling the reduction.\n",
      "  return reduction(axis=axis, out=out, **passkwargs)\n"
     ]
    },
    {
     "data": {
      "text/html": [
       "<div>\n",
       "<style scoped>\n",
       "    .dataframe tbody tr th:only-of-type {\n",
       "        vertical-align: middle;\n",
       "    }\n",
       "\n",
       "    .dataframe tbody tr th {\n",
       "        vertical-align: top;\n",
       "    }\n",
       "\n",
       "    .dataframe thead th {\n",
       "        text-align: right;\n",
       "    }\n",
       "</style>\n",
       "<table border=\"1\" class=\"dataframe\">\n",
       "  <thead>\n",
       "    <tr style=\"text-align: right;\">\n",
       "      <th></th>\n",
       "      <th>Feature</th>\n",
       "      <th>Pearson</th>\n",
       "      <th>Chi-2</th>\n",
       "      <th>RFE</th>\n",
       "      <th>Logistics</th>\n",
       "      <th>Random Forest</th>\n",
       "      <th>LightGBM</th>\n",
       "      <th>Total</th>\n",
       "    </tr>\n",
       "  </thead>\n",
       "  <tbody>\n",
       "    <tr>\n",
       "      <th>1</th>\n",
       "      <td>Safety and Security: Policies, Plans and Programs</td>\n",
       "      <td>True</td>\n",
       "      <td>True</td>\n",
       "      <td>True</td>\n",
       "      <td>True</td>\n",
       "      <td>True</td>\n",
       "      <td>True</td>\n",
       "      <td>6</td>\n",
       "    </tr>\n",
       "    <tr>\n",
       "      <th>2</th>\n",
       "      <td>Guidance Counseling and Health Clinic</td>\n",
       "      <td>True</td>\n",
       "      <td>True</td>\n",
       "      <td>True</td>\n",
       "      <td>True</td>\n",
       "      <td>True</td>\n",
       "      <td>False</td>\n",
       "      <td>5</td>\n",
       "    </tr>\n",
       "    <tr>\n",
       "      <th>3</th>\n",
       "      <td>Financial Procedures and Protocols</td>\n",
       "      <td>True</td>\n",
       "      <td>False</td>\n",
       "      <td>True</td>\n",
       "      <td>True</td>\n",
       "      <td>True</td>\n",
       "      <td>True</td>\n",
       "      <td>5</td>\n",
       "    </tr>\n",
       "    <tr>\n",
       "      <th>4</th>\n",
       "      <td>Staff Assessment System</td>\n",
       "      <td>True</td>\n",
       "      <td>False</td>\n",
       "      <td>True</td>\n",
       "      <td>False</td>\n",
       "      <td>True</td>\n",
       "      <td>True</td>\n",
       "      <td>4</td>\n",
       "    </tr>\n",
       "    <tr>\n",
       "      <th>5</th>\n",
       "      <td>Plan and Implementation</td>\n",
       "      <td>True</td>\n",
       "      <td>True</td>\n",
       "      <td>False</td>\n",
       "      <td>False</td>\n",
       "      <td>True</td>\n",
       "      <td>True</td>\n",
       "      <td>4</td>\n",
       "    </tr>\n",
       "    <tr>\n",
       "      <th>6</th>\n",
       "      <td>Asset Monitoring System</td>\n",
       "      <td>True</td>\n",
       "      <td>False</td>\n",
       "      <td>True</td>\n",
       "      <td>True</td>\n",
       "      <td>True</td>\n",
       "      <td>False</td>\n",
       "      <td>4</td>\n",
       "    </tr>\n",
       "    <tr>\n",
       "      <th>7</th>\n",
       "      <td>School Processes</td>\n",
       "      <td>False</td>\n",
       "      <td>True</td>\n",
       "      <td>True</td>\n",
       "      <td>True</td>\n",
       "      <td>False</td>\n",
       "      <td>False</td>\n",
       "      <td>3</td>\n",
       "    </tr>\n",
       "    <tr>\n",
       "      <th>8</th>\n",
       "      <td>School Facilities (Computer Room, Home Economi...</td>\n",
       "      <td>False</td>\n",
       "      <td>False</td>\n",
       "      <td>True</td>\n",
       "      <td>True</td>\n",
       "      <td>False</td>\n",
       "      <td>True</td>\n",
       "      <td>3</td>\n",
       "    </tr>\n",
       "    <tr>\n",
       "      <th>9</th>\n",
       "      <td>Resource mobilization projects and activities</td>\n",
       "      <td>True</td>\n",
       "      <td>True</td>\n",
       "      <td>False</td>\n",
       "      <td>False</td>\n",
       "      <td>True</td>\n",
       "      <td>False</td>\n",
       "      <td>3</td>\n",
       "    </tr>\n",
       "    <tr>\n",
       "      <th>10</th>\n",
       "      <td>Enhanced School Improvement Plan vs. Vision-Mi...</td>\n",
       "      <td>False</td>\n",
       "      <td>False</td>\n",
       "      <td>True</td>\n",
       "      <td>True</td>\n",
       "      <td>False</td>\n",
       "      <td>True</td>\n",
       "      <td>3</td>\n",
       "    </tr>\n",
       "  </tbody>\n",
       "</table>\n",
       "</div>"
      ],
      "text/plain": [
       "                                              Feature  Pearson  Chi-2    RFE  \\\n",
       "1   Safety and Security: Policies, Plans and Programs     True   True   True   \n",
       "2               Guidance Counseling and Health Clinic     True   True   True   \n",
       "3                  Financial Procedures and Protocols     True  False   True   \n",
       "4                             Staff Assessment System     True  False   True   \n",
       "5                             Plan and Implementation     True   True  False   \n",
       "6                             Asset Monitoring System     True  False   True   \n",
       "7                                    School Processes    False   True   True   \n",
       "8   School Facilities (Computer Room, Home Economi...    False  False   True   \n",
       "9       Resource mobilization projects and activities     True   True  False   \n",
       "10  Enhanced School Improvement Plan vs. Vision-Mi...    False  False   True   \n",
       "\n",
       "    Logistics  Random Forest  LightGBM  Total  \n",
       "1        True           True      True      6  \n",
       "2        True           True     False      5  \n",
       "3        True           True      True      5  \n",
       "4       False           True      True      4  \n",
       "5       False           True      True      4  \n",
       "6        True           True     False      4  \n",
       "7        True          False     False      3  \n",
       "8        True          False      True      3  \n",
       "9       False           True     False      3  \n",
       "10       True          False      True      3  "
      ]
     },
     "execution_count": 34,
     "metadata": {},
     "output_type": "execute_result"
    }
   ],
   "source": [
    "pd.set_option('display.max_rows', None)\n",
    "# put all selection together\n",
    "feature_selection_df = pd.DataFrame({'Feature':feature_name, 'Pearson':cor_support, 'Chi-2':chi_support, 'RFE':rfe_support, 'Logistics':embeded_lr_support,\n",
    "                                    'Random Forest':embeded_rf_support, 'LightGBM':embeded_lgb_support})\n",
    "# count the selected times for each feature\n",
    "feature_selection_df['Total'] = np.sum(feature_selection_df, axis=1)\n",
    "# display the top 10\n",
    "feature_selection_df = feature_selection_df.sort_values(['Total','Feature'] , ascending=False)\n",
    "feature_selection_df.index = range(1, len(feature_selection_df)+1)\n",
    "feature_selection_df.head(num_feats)"
   ]
  },
  {
   "cell_type": "code",
   "execution_count": 35,
   "id": "80c0dbfa",
   "metadata": {},
   "outputs": [],
   "source": [
    "feature = ['Safety and Security: Policies, Plans and Programs',\n",
    "           'Guidance Counseling and Health Clinic', 'Financial Procedures and Protocols', \n",
    "           'Staff Assessment System', 'Plan and Implementation', 'Asset Monitoring System']"
   ]
  },
  {
   "cell_type": "markdown",
   "id": "a110ede9",
   "metadata": {},
   "source": [
    "# Step 4: Cross Validation using Regression Algorithms"
   ]
  },
  {
   "cell_type": "code",
   "execution_count": 36,
   "id": "89e778f7",
   "metadata": {},
   "outputs": [],
   "source": [
    "# Import Lab\n",
    "import numpy as np\n",
    "import pandas as pd\n",
    "import seaborn as sns\n",
    "import matplotlib.pyplot as plt\n",
    "from sklearn.model_selection import train_test_split\n",
    "from sklearn.neighbors import KNeighborsRegressor\n",
    "from lightgbm import LGBMRegressor\n",
    "from xgboost import XGBRegressor\n",
    "from scipy import optimize, stats   \n",
    "from sklearn.svm import SVR\n",
    "from sklearn.ensemble import AdaBoostRegressor\n",
    "from sklearn.ensemble import ExtraTreesRegressor\n",
    "from sklearn import linear_model\n",
    "from sklearn.linear_model import LinearRegression, Ridge\n",
    "from sklearn.ensemble import RandomForestRegressor\n",
    "from sklearn.ensemble import GradientBoostingRegressor\n",
    "from lightgbm import LGBMRegressor\n",
    "from sklearn.preprocessing import StandardScaler, MinMaxScaler\n",
    "from sklearn.preprocessing import LabelEncoder, OneHotEncoder\n",
    "from sklearn.model_selection import StratifiedKFold, KFold\n",
    "from sklearn.metrics import mean_squared_error\n",
    "from sklearn.utils import resample\n",
    "from sklearn.pipeline import Pipeline\n",
    "from sklearn.model_selection import RepeatedKFold\n",
    "from sklearn.model_selection import cross_val_score\n",
    "#from keras.utils import np_utils"
   ]
  },
  {
   "cell_type": "markdown",
   "id": "df8ad0bd",
   "metadata": {},
   "source": [
    "### Data Preparation"
   ]
  },
  {
   "cell_type": "code",
   "execution_count": 37,
   "id": "f0324059",
   "metadata": {},
   "outputs": [],
   "source": [
    "# Duplicate dataframe\n",
    "df = df_main.copy()"
   ]
  },
  {
   "cell_type": "code",
   "execution_count": 38,
   "id": "a285b96a",
   "metadata": {},
   "outputs": [
    {
     "data": {
      "text/plain": [
       "(1088, 49)"
      ]
     },
     "execution_count": 38,
     "metadata": {},
     "output_type": "execute_result"
    }
   ],
   "source": [
    "# Drop rows with missing values\n",
    "df = df.dropna()\n",
    "df.shape"
   ]
  },
  {
   "cell_type": "code",
   "execution_count": 39,
   "id": "f8653b8a",
   "metadata": {},
   "outputs": [],
   "source": [
    "df_pred = df[feature]"
   ]
  },
  {
   "cell_type": "code",
   "execution_count": 40,
   "id": "a6bafbab",
   "metadata": {},
   "outputs": [
    {
     "data": {
      "text/html": [
       "<div>\n",
       "<style scoped>\n",
       "    .dataframe tbody tr th:only-of-type {\n",
       "        vertical-align: middle;\n",
       "    }\n",
       "\n",
       "    .dataframe tbody tr th {\n",
       "        vertical-align: top;\n",
       "    }\n",
       "\n",
       "    .dataframe thead th {\n",
       "        text-align: right;\n",
       "    }\n",
       "</style>\n",
       "<table border=\"1\" class=\"dataframe\">\n",
       "  <thead>\n",
       "    <tr style=\"text-align: right;\">\n",
       "      <th>indicator</th>\n",
       "      <th>Safety and Security: Policies, Plans and Programs</th>\n",
       "      <th>Guidance Counseling and Health Clinic</th>\n",
       "      <th>Financial Procedures and Protocols</th>\n",
       "      <th>Staff Assessment System</th>\n",
       "      <th>Plan and Implementation</th>\n",
       "      <th>Asset Monitoring System</th>\n",
       "    </tr>\n",
       "  </thead>\n",
       "  <tbody>\n",
       "    <tr>\n",
       "      <th>0</th>\n",
       "      <td>5.000000</td>\n",
       "      <td>3.857143</td>\n",
       "      <td>4.428571</td>\n",
       "      <td>4.142857</td>\n",
       "      <td>4.428571</td>\n",
       "      <td>3.857143</td>\n",
       "    </tr>\n",
       "    <tr>\n",
       "      <th>1</th>\n",
       "      <td>7.000000</td>\n",
       "      <td>6.600000</td>\n",
       "      <td>7.000000</td>\n",
       "      <td>7.000000</td>\n",
       "      <td>7.000000</td>\n",
       "      <td>7.000000</td>\n",
       "    </tr>\n",
       "    <tr>\n",
       "      <th>2</th>\n",
       "      <td>3.666667</td>\n",
       "      <td>3.666667</td>\n",
       "      <td>3.666667</td>\n",
       "      <td>3.000000</td>\n",
       "      <td>3.000000</td>\n",
       "      <td>3.666667</td>\n",
       "    </tr>\n",
       "    <tr>\n",
       "      <th>3</th>\n",
       "      <td>3.400000</td>\n",
       "      <td>3.400000</td>\n",
       "      <td>3.800000</td>\n",
       "      <td>3.400000</td>\n",
       "      <td>5.000000</td>\n",
       "      <td>1.800000</td>\n",
       "    </tr>\n",
       "    <tr>\n",
       "      <th>4</th>\n",
       "      <td>3.000000</td>\n",
       "      <td>5.000000</td>\n",
       "      <td>3.000000</td>\n",
       "      <td>5.000000</td>\n",
       "      <td>5.000000</td>\n",
       "      <td>3.000000</td>\n",
       "    </tr>\n",
       "  </tbody>\n",
       "</table>\n",
       "</div>"
      ],
      "text/plain": [
       "indicator  Safety and Security: Policies, Plans and Programs  \\\n",
       "0                                                   5.000000   \n",
       "1                                                   7.000000   \n",
       "2                                                   3.666667   \n",
       "3                                                   3.400000   \n",
       "4                                                   3.000000   \n",
       "\n",
       "indicator  Guidance Counseling and Health Clinic  \\\n",
       "0                                       3.857143   \n",
       "1                                       6.600000   \n",
       "2                                       3.666667   \n",
       "3                                       3.400000   \n",
       "4                                       5.000000   \n",
       "\n",
       "indicator  Financial Procedures and Protocols  Staff Assessment System  \\\n",
       "0                                    4.428571                 4.142857   \n",
       "1                                    7.000000                 7.000000   \n",
       "2                                    3.666667                 3.000000   \n",
       "3                                    3.800000                 3.400000   \n",
       "4                                    3.000000                 5.000000   \n",
       "\n",
       "indicator  Plan and Implementation  Asset Monitoring System  \n",
       "0                         4.428571                 3.857143  \n",
       "1                         7.000000                 7.000000  \n",
       "2                         3.000000                 3.666667  \n",
       "3                         5.000000                 1.800000  \n",
       "4                         5.000000                 3.000000  "
      ]
     },
     "execution_count": 40,
     "metadata": {},
     "output_type": "execute_result"
    }
   ],
   "source": [
    "df_pred.head()"
   ]
  },
  {
   "cell_type": "code",
   "execution_count": 41,
   "id": "eab468d8",
   "metadata": {},
   "outputs": [
    {
     "data": {
      "text/html": [
       "<div>\n",
       "<style scoped>\n",
       "    .dataframe tbody tr th:only-of-type {\n",
       "        vertical-align: middle;\n",
       "    }\n",
       "\n",
       "    .dataframe tbody tr th {\n",
       "        vertical-align: top;\n",
       "    }\n",
       "\n",
       "    .dataframe thead th {\n",
       "        text-align: right;\n",
       "    }\n",
       "</style>\n",
       "<table border=\"1\" class=\"dataframe\">\n",
       "  <thead>\n",
       "    <tr style=\"text-align: right;\">\n",
       "      <th>indicator</th>\n",
       "      <th>Safety and Security: Policies, Plans and Programs</th>\n",
       "      <th>Guidance Counseling and Health Clinic</th>\n",
       "      <th>Financial Procedures and Protocols</th>\n",
       "      <th>Staff Assessment System</th>\n",
       "      <th>Plan and Implementation</th>\n",
       "      <th>Asset Monitoring System</th>\n",
       "    </tr>\n",
       "  </thead>\n",
       "  <tbody>\n",
       "    <tr>\n",
       "      <th>0</th>\n",
       "      <td>1.609</td>\n",
       "      <td>1.350</td>\n",
       "      <td>1.488</td>\n",
       "      <td>1.421</td>\n",
       "      <td>1.488</td>\n",
       "      <td>1.350</td>\n",
       "    </tr>\n",
       "    <tr>\n",
       "      <th>1</th>\n",
       "      <td>1.946</td>\n",
       "      <td>1.887</td>\n",
       "      <td>1.946</td>\n",
       "      <td>1.946</td>\n",
       "      <td>1.946</td>\n",
       "      <td>1.946</td>\n",
       "    </tr>\n",
       "    <tr>\n",
       "      <th>2</th>\n",
       "      <td>1.299</td>\n",
       "      <td>1.299</td>\n",
       "      <td>1.299</td>\n",
       "      <td>1.099</td>\n",
       "      <td>1.099</td>\n",
       "      <td>1.299</td>\n",
       "    </tr>\n",
       "    <tr>\n",
       "      <th>3</th>\n",
       "      <td>1.224</td>\n",
       "      <td>1.224</td>\n",
       "      <td>1.335</td>\n",
       "      <td>1.224</td>\n",
       "      <td>1.609</td>\n",
       "      <td>0.588</td>\n",
       "    </tr>\n",
       "    <tr>\n",
       "      <th>4</th>\n",
       "      <td>1.099</td>\n",
       "      <td>1.609</td>\n",
       "      <td>1.099</td>\n",
       "      <td>1.609</td>\n",
       "      <td>1.609</td>\n",
       "      <td>1.099</td>\n",
       "    </tr>\n",
       "  </tbody>\n",
       "</table>\n",
       "</div>"
      ],
      "text/plain": [
       "indicator  Safety and Security: Policies, Plans and Programs  \\\n",
       "0                                                      1.609   \n",
       "1                                                      1.946   \n",
       "2                                                      1.299   \n",
       "3                                                      1.224   \n",
       "4                                                      1.099   \n",
       "\n",
       "indicator  Guidance Counseling and Health Clinic  \\\n",
       "0                                          1.350   \n",
       "1                                          1.887   \n",
       "2                                          1.299   \n",
       "3                                          1.224   \n",
       "4                                          1.609   \n",
       "\n",
       "indicator  Financial Procedures and Protocols  Staff Assessment System  \\\n",
       "0                                       1.488                    1.421   \n",
       "1                                       1.946                    1.946   \n",
       "2                                       1.299                    1.099   \n",
       "3                                       1.335                    1.224   \n",
       "4                                       1.099                    1.609   \n",
       "\n",
       "indicator  Plan and Implementation  Asset Monitoring System  \n",
       "0                            1.488                    1.350  \n",
       "1                            1.946                    1.946  \n",
       "2                            1.099                    1.299  \n",
       "3                            1.609                    0.588  \n",
       "4                            1.609                    1.099  "
      ]
     },
     "execution_count": 41,
     "metadata": {},
     "output_type": "execute_result"
    }
   ],
   "source": [
    "# transform the attibutes to normalize\n",
    "df_log = df_pred.apply(np.log, axis = 1).round(3)\n",
    "df_log.head()"
   ]
  },
  {
   "cell_type": "code",
   "execution_count": 42,
   "id": "10880891",
   "metadata": {},
   "outputs": [
    {
     "data": {
      "text/html": [
       "<div>\n",
       "<style scoped>\n",
       "    .dataframe tbody tr th:only-of-type {\n",
       "        vertical-align: middle;\n",
       "    }\n",
       "\n",
       "    .dataframe tbody tr th {\n",
       "        vertical-align: top;\n",
       "    }\n",
       "\n",
       "    .dataframe thead th {\n",
       "        text-align: right;\n",
       "    }\n",
       "</style>\n",
       "<table border=\"1\" class=\"dataframe\">\n",
       "  <thead>\n",
       "    <tr style=\"text-align: right;\">\n",
       "      <th>indicator</th>\n",
       "      <th>Safety and Security: Policies, Plans and Programs</th>\n",
       "      <th>Guidance Counseling and Health Clinic</th>\n",
       "      <th>Financial Procedures and Protocols</th>\n",
       "      <th>Staff Assessment System</th>\n",
       "      <th>Plan and Implementation</th>\n",
       "      <th>Asset Monitoring System</th>\n",
       "    </tr>\n",
       "  </thead>\n",
       "  <tbody>\n",
       "    <tr>\n",
       "      <th>count</th>\n",
       "      <td>1088.000000</td>\n",
       "      <td>1088.000000</td>\n",
       "      <td>1088.000000</td>\n",
       "      <td>1088.000000</td>\n",
       "      <td>1088.000000</td>\n",
       "      <td>1088.000000</td>\n",
       "    </tr>\n",
       "    <tr>\n",
       "      <th>mean</th>\n",
       "      <td>1.451221</td>\n",
       "      <td>1.441780</td>\n",
       "      <td>1.537578</td>\n",
       "      <td>1.519756</td>\n",
       "      <td>1.479073</td>\n",
       "      <td>1.500531</td>\n",
       "    </tr>\n",
       "    <tr>\n",
       "      <th>std</th>\n",
       "      <td>0.404943</td>\n",
       "      <td>0.443712</td>\n",
       "      <td>0.357043</td>\n",
       "      <td>0.364146</td>\n",
       "      <td>0.392756</td>\n",
       "      <td>0.342897</td>\n",
       "    </tr>\n",
       "    <tr>\n",
       "      <th>min</th>\n",
       "      <td>0.000000</td>\n",
       "      <td>0.000000</td>\n",
       "      <td>0.000000</td>\n",
       "      <td>0.000000</td>\n",
       "      <td>0.000000</td>\n",
       "      <td>0.000000</td>\n",
       "    </tr>\n",
       "    <tr>\n",
       "      <th>25%</th>\n",
       "      <td>1.253000</td>\n",
       "      <td>1.175000</td>\n",
       "      <td>1.299000</td>\n",
       "      <td>1.299000</td>\n",
       "      <td>1.299000</td>\n",
       "      <td>1.299000</td>\n",
       "    </tr>\n",
       "    <tr>\n",
       "      <th>50%</th>\n",
       "      <td>1.609000</td>\n",
       "      <td>1.609000</td>\n",
       "      <td>1.609000</td>\n",
       "      <td>1.609000</td>\n",
       "      <td>1.609000</td>\n",
       "      <td>1.609000</td>\n",
       "    </tr>\n",
       "    <tr>\n",
       "      <th>75%</th>\n",
       "      <td>1.735000</td>\n",
       "      <td>1.735000</td>\n",
       "      <td>1.825000</td>\n",
       "      <td>1.792000</td>\n",
       "      <td>1.758000</td>\n",
       "      <td>1.735000</td>\n",
       "    </tr>\n",
       "    <tr>\n",
       "      <th>max</th>\n",
       "      <td>1.946000</td>\n",
       "      <td>1.946000</td>\n",
       "      <td>1.946000</td>\n",
       "      <td>1.946000</td>\n",
       "      <td>1.946000</td>\n",
       "      <td>1.946000</td>\n",
       "    </tr>\n",
       "  </tbody>\n",
       "</table>\n",
       "</div>"
      ],
      "text/plain": [
       "indicator  Safety and Security: Policies, Plans and Programs  \\\n",
       "count                                            1088.000000   \n",
       "mean                                                1.451221   \n",
       "std                                                 0.404943   \n",
       "min                                                 0.000000   \n",
       "25%                                                 1.253000   \n",
       "50%                                                 1.609000   \n",
       "75%                                                 1.735000   \n",
       "max                                                 1.946000   \n",
       "\n",
       "indicator  Guidance Counseling and Health Clinic  \\\n",
       "count                                1088.000000   \n",
       "mean                                    1.441780   \n",
       "std                                     0.443712   \n",
       "min                                     0.000000   \n",
       "25%                                     1.175000   \n",
       "50%                                     1.609000   \n",
       "75%                                     1.735000   \n",
       "max                                     1.946000   \n",
       "\n",
       "indicator  Financial Procedures and Protocols  Staff Assessment System  \\\n",
       "count                             1088.000000              1088.000000   \n",
       "mean                                 1.537578                 1.519756   \n",
       "std                                  0.357043                 0.364146   \n",
       "min                                  0.000000                 0.000000   \n",
       "25%                                  1.299000                 1.299000   \n",
       "50%                                  1.609000                 1.609000   \n",
       "75%                                  1.825000                 1.792000   \n",
       "max                                  1.946000                 1.946000   \n",
       "\n",
       "indicator  Plan and Implementation  Asset Monitoring System  \n",
       "count                  1088.000000              1088.000000  \n",
       "mean                      1.479073                 1.500531  \n",
       "std                       0.392756                 0.342897  \n",
       "min                       0.000000                 0.000000  \n",
       "25%                       1.299000                 1.299000  \n",
       "50%                       1.609000                 1.609000  \n",
       "75%                       1.758000                 1.735000  \n",
       "max                       1.946000                 1.946000  "
      ]
     },
     "execution_count": 42,
     "metadata": {},
     "output_type": "execute_result"
    }
   ],
   "source": [
    "df_log.describe()"
   ]
  },
  {
   "cell_type": "code",
   "execution_count": 43,
   "id": "9bbc8eca",
   "metadata": {},
   "outputs": [
    {
     "data": {
      "text/plain": [
       "(1088, 6)"
      ]
     },
     "execution_count": 43,
     "metadata": {},
     "output_type": "execute_result"
    }
   ],
   "source": [
    "# Rescale the attributes\n",
    "df_final = df_log[feature]\n",
    "\n",
    "# Instantiate\n",
    "scaler = StandardScaler()\n",
    "\n",
    "# fit_transform\n",
    "df_scaled = scaler.fit_transform(df_final)\n",
    "df_scaled.shape"
   ]
  },
  {
   "cell_type": "code",
   "execution_count": 44,
   "id": "cbca49e7",
   "metadata": {},
   "outputs": [
    {
     "data": {
      "text/html": [
       "<div>\n",
       "<style scoped>\n",
       "    .dataframe tbody tr th:only-of-type {\n",
       "        vertical-align: middle;\n",
       "    }\n",
       "\n",
       "    .dataframe tbody tr th {\n",
       "        vertical-align: top;\n",
       "    }\n",
       "\n",
       "    .dataframe thead th {\n",
       "        text-align: right;\n",
       "    }\n",
       "</style>\n",
       "<table border=\"1\" class=\"dataframe\">\n",
       "  <thead>\n",
       "    <tr style=\"text-align: right;\">\n",
       "      <th></th>\n",
       "      <th>Safety and Security: Policies, Plans and Programs</th>\n",
       "      <th>Guidance Counseling and Health Clinic</th>\n",
       "      <th>Financial Procedures and Protocols</th>\n",
       "      <th>Staff Assessment System</th>\n",
       "      <th>Plan and Implementation</th>\n",
       "      <th>Asset Monitoring System</th>\n",
       "    </tr>\n",
       "  </thead>\n",
       "  <tbody>\n",
       "    <tr>\n",
       "      <th>0</th>\n",
       "      <td>0.389813</td>\n",
       "      <td>-0.206942</td>\n",
       "      <td>-0.138921</td>\n",
       "      <td>-0.271325</td>\n",
       "      <td>0.022741</td>\n",
       "      <td>-0.439201</td>\n",
       "    </tr>\n",
       "    <tr>\n",
       "      <th>1</th>\n",
       "      <td>1.222412</td>\n",
       "      <td>1.003860</td>\n",
       "      <td>1.144428</td>\n",
       "      <td>1.171067</td>\n",
       "      <td>1.189396</td>\n",
       "      <td>1.299731</td>\n",
       "    </tr>\n",
       "    <tr>\n",
       "      <th>2</th>\n",
       "      <td>-0.376079</td>\n",
       "      <td>-0.321934</td>\n",
       "      <td>-0.668513</td>\n",
       "      <td>-1.155992</td>\n",
       "      <td>-0.968152</td>\n",
       "      <td>-0.588002</td>\n",
       "    </tr>\n",
       "    <tr>\n",
       "      <th>3</th>\n",
       "      <td>-0.561376</td>\n",
       "      <td>-0.491041</td>\n",
       "      <td>-0.567639</td>\n",
       "      <td>-0.812565</td>\n",
       "      <td>0.330962</td>\n",
       "      <td>-2.662466</td>\n",
       "    </tr>\n",
       "    <tr>\n",
       "      <th>4</th>\n",
       "      <td>-0.870204</td>\n",
       "      <td>0.377039</td>\n",
       "      <td>-1.228928</td>\n",
       "      <td>0.245189</td>\n",
       "      <td>0.330962</td>\n",
       "      <td>-1.171536</td>\n",
       "    </tr>\n",
       "  </tbody>\n",
       "</table>\n",
       "</div>"
      ],
      "text/plain": [
       "   Safety and Security: Policies, Plans and Programs  \\\n",
       "0                                           0.389813   \n",
       "1                                           1.222412   \n",
       "2                                          -0.376079   \n",
       "3                                          -0.561376   \n",
       "4                                          -0.870204   \n",
       "\n",
       "   Guidance Counseling and Health Clinic  Financial Procedures and Protocols  \\\n",
       "0                              -0.206942                           -0.138921   \n",
       "1                               1.003860                            1.144428   \n",
       "2                              -0.321934                           -0.668513   \n",
       "3                              -0.491041                           -0.567639   \n",
       "4                               0.377039                           -1.228928   \n",
       "\n",
       "   Staff Assessment System  Plan and Implementation  Asset Monitoring System  \n",
       "0                -0.271325                 0.022741                -0.439201  \n",
       "1                 1.171067                 1.189396                 1.299731  \n",
       "2                -1.155992                -0.968152                -0.588002  \n",
       "3                -0.812565                 0.330962                -2.662466  \n",
       "4                 0.245189                 0.330962                -1.171536  "
      ]
     },
     "execution_count": 44,
     "metadata": {},
     "output_type": "execute_result"
    }
   ],
   "source": [
    "df_scaled = pd.DataFrame(df_scaled)\n",
    "df_scaled.columns = feature\n",
    "df_scaled.head()"
   ]
  },
  {
   "cell_type": "markdown",
   "id": "6d1c4160",
   "metadata": {},
   "source": [
    "### Modelling"
   ]
  },
  {
   "cell_type": "code",
   "execution_count": 45,
   "id": "2ef5d959",
   "metadata": {},
   "outputs": [],
   "source": [
    "X = df_scaled.copy()\n",
    "y = df[ind_var]"
   ]
  },
  {
   "cell_type": "code",
   "execution_count": 46,
   "id": "8e6469ba",
   "metadata": {},
   "outputs": [],
   "source": [
    "# split dataset into train and test sets\n",
    "from sklearn.model_selection import train_test_split\n",
    "X_train, X_test, Y_train, Y_test = train_test_split(X, y, train_size = 0.7, test_size = 0.3, random_state = 123)"
   ]
  },
  {
   "cell_type": "code",
   "execution_count": 47,
   "id": "1e52fc98",
   "metadata": {},
   "outputs": [
    {
     "data": {
      "text/html": [
       "<div>\n",
       "<style scoped>\n",
       "    .dataframe tbody tr th:only-of-type {\n",
       "        vertical-align: middle;\n",
       "    }\n",
       "\n",
       "    .dataframe tbody tr th {\n",
       "        vertical-align: top;\n",
       "    }\n",
       "\n",
       "    .dataframe thead th {\n",
       "        text-align: right;\n",
       "    }\n",
       "</style>\n",
       "<table border=\"1\" class=\"dataframe\">\n",
       "  <thead>\n",
       "    <tr style=\"text-align: right;\">\n",
       "      <th></th>\n",
       "      <th>Safety and Security: Policies, Plans and Programs</th>\n",
       "      <th>Guidance Counseling and Health Clinic</th>\n",
       "      <th>Financial Procedures and Protocols</th>\n",
       "      <th>Staff Assessment System</th>\n",
       "      <th>Plan and Implementation</th>\n",
       "      <th>Asset Monitoring System</th>\n",
       "    </tr>\n",
       "  </thead>\n",
       "  <tbody>\n",
       "    <tr>\n",
       "      <th>578</th>\n",
       "      <td>-0.376079</td>\n",
       "      <td>0.054609</td>\n",
       "      <td>0.788564</td>\n",
       "      <td>0.591363</td>\n",
       "      <td>0.496535</td>\n",
       "      <td>0.316476</td>\n",
       "    </tr>\n",
       "    <tr>\n",
       "      <th>91</th>\n",
       "      <td>-1.322327</td>\n",
       "      <td>-0.125771</td>\n",
       "      <td>-1.228928</td>\n",
       "      <td>-0.367484</td>\n",
       "      <td>-0.968152</td>\n",
       "      <td>-0.722215</td>\n",
       "    </tr>\n",
       "    <tr>\n",
       "      <th>170</th>\n",
       "      <td>-0.376079</td>\n",
       "      <td>0.054609</td>\n",
       "      <td>-0.797408</td>\n",
       "      <td>-0.367484</td>\n",
       "      <td>-1.434305</td>\n",
       "      <td>-0.334165</td>\n",
       "    </tr>\n",
       "    <tr>\n",
       "      <th>272</th>\n",
       "      <td>0.701111</td>\n",
       "      <td>0.054609</td>\n",
       "      <td>-0.200567</td>\n",
       "      <td>-0.147691</td>\n",
       "      <td>-0.033300</td>\n",
       "      <td>-0.100751</td>\n",
       "    </tr>\n",
       "    <tr>\n",
       "      <th>75</th>\n",
       "      <td>0.036514</td>\n",
       "      <td>0.661138</td>\n",
       "      <td>0.553190</td>\n",
       "      <td>0.797419</td>\n",
       "      <td>-0.033300</td>\n",
       "      <td>1.007964</td>\n",
       "    </tr>\n",
       "  </tbody>\n",
       "</table>\n",
       "</div>"
      ],
      "text/plain": [
       "     Safety and Security: Policies, Plans and Programs  \\\n",
       "578                                          -0.376079   \n",
       "91                                           -1.322327   \n",
       "170                                          -0.376079   \n",
       "272                                           0.701111   \n",
       "75                                            0.036514   \n",
       "\n",
       "     Guidance Counseling and Health Clinic  \\\n",
       "578                               0.054609   \n",
       "91                               -0.125771   \n",
       "170                               0.054609   \n",
       "272                               0.054609   \n",
       "75                                0.661138   \n",
       "\n",
       "     Financial Procedures and Protocols  Staff Assessment System  \\\n",
       "578                            0.788564                 0.591363   \n",
       "91                            -1.228928                -0.367484   \n",
       "170                           -0.797408                -0.367484   \n",
       "272                           -0.200567                -0.147691   \n",
       "75                             0.553190                 0.797419   \n",
       "\n",
       "     Plan and Implementation  Asset Monitoring System  \n",
       "578                 0.496535                 0.316476  \n",
       "91                 -0.968152                -0.722215  \n",
       "170                -1.434305                -0.334165  \n",
       "272                -0.033300                -0.100751  \n",
       "75                 -0.033300                 1.007964  "
      ]
     },
     "execution_count": 47,
     "metadata": {},
     "output_type": "execute_result"
    }
   ],
   "source": [
    "# Let's now take a look at the train dataset\n",
    "X_train.head()"
   ]
  },
  {
   "cell_type": "code",
   "execution_count": 48,
   "id": "90333062",
   "metadata": {},
   "outputs": [
    {
     "data": {
      "text/plain": [
       "582    3.545455\n",
       "92     3.500000\n",
       "174    3.000000\n",
       "276    7.000000\n",
       "76     3.000000\n",
       "Name: School Activities, dtype: float64"
      ]
     },
     "execution_count": 48,
     "metadata": {},
     "output_type": "execute_result"
    }
   ],
   "source": [
    "Y_train.head()"
   ]
  },
  {
   "cell_type": "code",
   "execution_count": 49,
   "id": "e71f9353",
   "metadata": {},
   "outputs": [
    {
     "name": "stdout",
     "output_type": "stream",
     "text": [
      "(761, 6)\n",
      "(327, 6)\n",
      "(761,)\n",
      "(327,)\n"
     ]
    }
   ],
   "source": [
    "print(X_train.shape)\n",
    "print(X_test.shape)\n",
    "print(Y_train.shape)\n",
    "print(Y_test.shape)"
   ]
  },
  {
   "cell_type": "code",
   "execution_count": 50,
   "id": "0133f0f6",
   "metadata": {},
   "outputs": [],
   "source": [
    "# define model evaluation method\n",
    "cv = RepeatedKFold(n_splits=10, n_repeats=3, random_state=1)"
   ]
  },
  {
   "cell_type": "markdown",
   "id": "782035a1",
   "metadata": {},
   "source": [
    "reference: https://towardsdatascience.com/7-of-the-most-commonly-used-regression-algorithms-and-how-to-choose-the-right-one-fc3c8890f9e3#b419"
   ]
  },
  {
   "cell_type": "markdown",
   "id": "60fc42b9",
   "metadata": {},
   "source": [
    "## 1. ExtraTrees Regressor"
   ]
  },
  {
   "cell_type": "code",
   "execution_count": 51,
   "id": "62d07cd4",
   "metadata": {},
   "outputs": [],
   "source": [
    "model = ExtraTreesRegressor()"
   ]
  },
  {
   "cell_type": "code",
   "execution_count": 52,
   "id": "1dd13505",
   "metadata": {},
   "outputs": [],
   "source": [
    "# evaluate model\n",
    "scores_mse = cross_val_score(model, X, y, scoring='neg_mean_squared_error', cv=cv, n_jobs=-1)\n",
    "scores_mae = cross_val_score(model, X, y, scoring='neg_mean_absolute_error', cv=cv, n_jobs=-1)\n",
    "scores_r2 = cross_val_score(model, X, y, scoring='r2', cv=cv, n_jobs=-1)"
   ]
  },
  {
   "cell_type": "code",
   "execution_count": 53,
   "id": "1368f765",
   "metadata": {},
   "outputs": [
    {
     "name": "stdout",
     "output_type": "stream",
     "text": [
      "Mean MSE: -1.114 (2.581)\n",
      "Mean MAE: -0.793 (2.581)\n",
      "Mean r2: 0.403 (2.581)\n"
     ]
    }
   ],
   "source": [
    "print('Mean MSE: %.3f (%.3f)' % (scores_mse.mean(), scores.std()) )\n",
    "print('Mean MAE: %.3f (%.3f)' % (scores_mae.mean(), scores.std()) )\n",
    "print('Mean r2: %.3f (%.3f)' % (scores_r2.mean(), scores.std()) )"
   ]
  },
  {
   "cell_type": "markdown",
   "id": "c2bebde1",
   "metadata": {},
   "source": [
    "## 2. AdaBoost Regressor"
   ]
  },
  {
   "cell_type": "code",
   "execution_count": 54,
   "id": "5fa2c9aa",
   "metadata": {},
   "outputs": [],
   "source": [
    "model = AdaBoostRegressor()"
   ]
  },
  {
   "cell_type": "code",
   "execution_count": 55,
   "id": "6adfe6fe",
   "metadata": {},
   "outputs": [],
   "source": [
    "# evaluate model\n",
    "scores_mse = cross_val_score(model, X, y, scoring='neg_mean_squared_error', cv=cv, n_jobs=-1)\n",
    "scores_mae = cross_val_score(model, X, y, scoring='neg_mean_absolute_error', cv=cv, n_jobs=-1)\n",
    "scores_r2 = cross_val_score(model, X, y, scoring='r2', cv=cv, n_jobs=-1)"
   ]
  },
  {
   "cell_type": "code",
   "execution_count": 56,
   "id": "24c9b4d0",
   "metadata": {},
   "outputs": [
    {
     "name": "stdout",
     "output_type": "stream",
     "text": [
      "Mean MSE: -0.977 (2.581)\n",
      "Mean MAE: -0.775 (2.581)\n",
      "Mean r2: 0.470 (2.581)\n"
     ]
    }
   ],
   "source": [
    "print('Mean MSE: %.3f (%.3f)' % (scores_mse.mean(), scores.std()) )\n",
    "print('Mean MAE: %.3f (%.3f)' % (scores_mae.mean(), scores.std()) )\n",
    "print('Mean r2: %.3f (%.3f)' % (scores_r2.mean(), scores.std()) )"
   ]
  },
  {
   "cell_type": "markdown",
   "id": "35f315e6",
   "metadata": {},
   "source": [
    "## 3. Bayesian Ridge"
   ]
  },
  {
   "cell_type": "code",
   "execution_count": 57,
   "id": "e2025df7",
   "metadata": {},
   "outputs": [
    {
     "name": "stdout",
     "output_type": "stream",
     "text": [
      "Wall time: 0 ns\n",
      "Train set mse: 0.9393501256614893\n",
      "Test set mse: 0.868542805519744\n",
      "Test set score: 0.51183561386691\n"
     ]
    }
   ],
   "source": [
    "%time\n",
    "BYNR = linear_model.BayesianRidge()\n",
    "BYNR.fit(X_train,Y_train)\n",
    "\n",
    "print('Train set mse:', mean_squared_error(Y_train, BYNR.predict(X_train)))\n",
    "print('Test set mse:', mean_squared_error(Y_test, BYNR.predict(X_test)))\n",
    "print('Test set score:', BYNR.score(X_train,Y_train))"
   ]
  },
  {
   "cell_type": "code",
   "execution_count": 58,
   "id": "eda266c7",
   "metadata": {},
   "outputs": [],
   "source": [
    "model = linear_model.BayesianRidge()"
   ]
  },
  {
   "cell_type": "code",
   "execution_count": 59,
   "id": "538e9c50",
   "metadata": {},
   "outputs": [],
   "source": [
    "# evaluate model\n",
    "scores_mse = cross_val_score(model, X, y, scoring='neg_mean_squared_error', cv=cv, n_jobs=-1)\n",
    "scores_mae = cross_val_score(model, X, y, scoring='neg_mean_absolute_error', cv=cv, n_jobs=-1)\n",
    "scores_r2 = cross_val_score(model, X, y, scoring='r2', cv=cv, n_jobs=-1)"
   ]
  },
  {
   "cell_type": "code",
   "execution_count": 60,
   "id": "86ee6f8b",
   "metadata": {},
   "outputs": [
    {
     "name": "stdout",
     "output_type": "stream",
     "text": [
      "Mean MSE: -0.934 (2.581)\n",
      "Mean MAE: -0.753 (2.581)\n",
      "Mean r2: 0.495 (2.581)\n"
     ]
    }
   ],
   "source": [
    "print('Mean MSE: %.3f (%.3f)' % (scores_mse.mean(), scores.std()) )\n",
    "print('Mean MAE: %.3f (%.3f)' % (scores_mae.mean(), scores.std()) )\n",
    "print('Mean r2: %.3f (%.3f)' % (scores_r2.mean(), scores.std()) )"
   ]
  },
  {
   "cell_type": "markdown",
   "id": "77807dda",
   "metadata": {},
   "source": [
    "## 4. Linear Regression"
   ]
  },
  {
   "cell_type": "code",
   "execution_count": 61,
   "id": "2768893e",
   "metadata": {},
   "outputs": [
    {
     "name": "stdout",
     "output_type": "stream",
     "text": [
      "Wall time: 0 ns\n",
      "Train set mse: 0.939266724491972\n",
      "Test set mse: 0.8679589393756033\n",
      "Test set score: 0.5118789560453033\n"
     ]
    }
   ],
   "source": [
    "%time\n",
    "LR = LinearRegression()\n",
    "LR.fit(X_train,Y_train)\n",
    "\n",
    "print('Train set mse:', mean_squared_error(Y_train, LR.predict(X_train)))\n",
    "print('Test set mse:', mean_squared_error(Y_test, LR.predict(X_test)))\n",
    "print('Test set score:', LR.score(X_train,Y_train))"
   ]
  },
  {
   "cell_type": "code",
   "execution_count": 62,
   "id": "29ca1c21",
   "metadata": {},
   "outputs": [],
   "source": [
    "model = LinearRegression()"
   ]
  },
  {
   "cell_type": "code",
   "execution_count": 63,
   "id": "6e734cbb",
   "metadata": {},
   "outputs": [],
   "source": [
    "# evaluate model\n",
    "scores_mse = cross_val_score(model, X, y, scoring='neg_mean_squared_error', cv=cv, n_jobs=-1)\n",
    "scores_mae = cross_val_score(model, X, y, scoring='neg_mean_absolute_error', cv=cv, n_jobs=-1)\n",
    "scores_r2 = cross_val_score(model, X, y, scoring='r2', cv=cv, n_jobs=-1)"
   ]
  },
  {
   "cell_type": "code",
   "execution_count": 64,
   "id": "2bd3cc7b",
   "metadata": {},
   "outputs": [
    {
     "name": "stdout",
     "output_type": "stream",
     "text": [
      "Mean MSE: -0.935 (2.581)\n",
      "Mean MAE: -0.753 (2.581)\n",
      "Mean r2: 0.494 (2.581)\n"
     ]
    }
   ],
   "source": [
    "print('Mean MSE: %.3f (%.3f)' % (scores_mse.mean(), scores.std()) )\n",
    "print('Mean MAE: %.3f (%.3f)' % (scores_mae.mean(), scores.std()) )\n",
    "print('Mean r2: %.3f (%.3f)' % (scores_r2.mean(), scores.std()) )"
   ]
  },
  {
   "cell_type": "markdown",
   "id": "89625220",
   "metadata": {},
   "source": [
    "## 5. Random Forest Regressor"
   ]
  },
  {
   "cell_type": "code",
   "execution_count": 65,
   "id": "5bc41539",
   "metadata": {},
   "outputs": [
    {
     "name": "stdout",
     "output_type": "stream",
     "text": [
      "Wall time: 0 ns\n",
      "Train set mse: 0.1961830388454621\n",
      "Test set mse: 0.9328533697800047\n",
      "Test set score: 0.8980469900291137\n"
     ]
    }
   ],
   "source": [
    "%time\n",
    "RFR = RandomForestRegressor(n_estimators = 100)\n",
    "RFR.fit(X_train,Y_train)\n",
    "\n",
    "print('Train set mse:', mean_squared_error(Y_train, RFR.predict(X_train)))\n",
    "print('Test set mse:', mean_squared_error(Y_test, RFR.predict(X_test)))\n",
    "print('Test set score:', RFR.score(X_train,Y_train))"
   ]
  },
  {
   "cell_type": "code",
   "execution_count": 66,
   "id": "5283be48",
   "metadata": {},
   "outputs": [],
   "source": [
    "model = RandomForestRegressor()"
   ]
  },
  {
   "cell_type": "code",
   "execution_count": 67,
   "id": "f35a1b26",
   "metadata": {},
   "outputs": [],
   "source": [
    "# evaluate model\n",
    "scores_mse = cross_val_score(model, X, y, scoring='neg_mean_squared_error', cv=cv, n_jobs=-1)\n",
    "scores_mae = cross_val_score(model, X, y, scoring='neg_mean_absolute_error', cv=cv, n_jobs=-1)\n",
    "scores_r2 = cross_val_score(model, X, y, scoring='r2', cv=cv, n_jobs=-1)"
   ]
  },
  {
   "cell_type": "code",
   "execution_count": 68,
   "id": "b65d5708",
   "metadata": {},
   "outputs": [
    {
     "name": "stdout",
     "output_type": "stream",
     "text": [
      "Mean MSE: -1.052 (2.581)\n",
      "Mean MAE: -0.777 (2.581)\n",
      "Mean r2: 0.435 (2.581)\n"
     ]
    }
   ],
   "source": [
    "print('Mean MSE: %.3f (%.3f)' % (scores_mse.mean(), scores.std()) )\n",
    "print('Mean MAE: %.3f (%.3f)' % (scores_mae.mean(), scores.std()) )\n",
    "print('Mean r2: %.3f (%.3f)' % (scores_r2.mean(), scores.std()) )"
   ]
  },
  {
   "cell_type": "markdown",
   "id": "87aa1201",
   "metadata": {},
   "source": [
    "## 6. XGB Regressor"
   ]
  },
  {
   "cell_type": "code",
   "execution_count": 69,
   "id": "7193f4d1",
   "metadata": {},
   "outputs": [
    {
     "name": "stdout",
     "output_type": "stream",
     "text": [
      "Wall time: 0 ns\n",
      "Train set mse: 0.06015606209466165\n",
      "Test set mse: 1.1709723885612575\n",
      "Test set score: 0.9687379111128079\n"
     ]
    }
   ],
   "source": [
    "%time\n",
    "XGB = XGBRegressor(max_depth=16,n_estimators=200,seed=123)\n",
    "XGB.fit(X_train,Y_train)\n",
    "\n",
    "print('Train set mse:', mean_squared_error(Y_train, XGB.predict(X_train)))\n",
    "print('Test set mse:', mean_squared_error(Y_test, XGB.predict(X_test)))\n",
    "print('Test set score:', XGB.score(X_train,Y_train))"
   ]
  },
  {
   "cell_type": "code",
   "execution_count": 70,
   "id": "fd83838e",
   "metadata": {},
   "outputs": [],
   "source": [
    "model = XGBRegressor()"
   ]
  },
  {
   "cell_type": "code",
   "execution_count": 71,
   "id": "65ec12bd",
   "metadata": {},
   "outputs": [],
   "source": [
    "# evaluate model\n",
    "scores_mse = cross_val_score(model, X, y, scoring='neg_mean_squared_error', cv=cv, n_jobs=-1)\n",
    "scores_mae = cross_val_score(model, X, y, scoring='neg_mean_absolute_error', cv=cv, n_jobs=-1)\n",
    "scores_r2 = cross_val_score(model, X, y, scoring='r2', cv=cv, n_jobs=-1)"
   ]
  },
  {
   "cell_type": "code",
   "execution_count": 72,
   "id": "99be3570",
   "metadata": {},
   "outputs": [
    {
     "name": "stdout",
     "output_type": "stream",
     "text": [
      "Mean MSE: -1.285 (2.581)\n",
      "Mean MAE: -0.858 (2.581)\n",
      "Mean r2: 0.304 (2.581)\n"
     ]
    }
   ],
   "source": [
    "print('Mean MSE: %.3f (%.3f)' % (scores_mse.mean(), scores.std()) )\n",
    "print('Mean MAE: %.3f (%.3f)' % (scores_mae.mean(), scores.std()) )\n",
    "print('Mean r2: %.3f (%.3f)' % (scores_r2.mean(), scores.std()) )"
   ]
  },
  {
   "cell_type": "markdown",
   "id": "f0e0d860",
   "metadata": {},
   "source": [
    "## 7. LGBM Regressor"
   ]
  },
  {
   "cell_type": "code",
   "execution_count": 73,
   "id": "df7ff609",
   "metadata": {},
   "outputs": [
    {
     "name": "stdout",
     "output_type": "stream",
     "text": [
      "Wall time: 0 ns\n",
      "Train set mse: 0.23533303965377972\n",
      "Test set mse: 1.0106175913123348\n",
      "Test set score: 0.8777013962088712\n"
     ]
    }
   ],
   "source": [
    "%time\n",
    "\n",
    "import re\n",
    "X_train_renamed = X_train.rename(columns = lambda x:re.sub('[^A-Za-z0-9_]+', '', x))\n",
    "\n",
    "LGBM = LGBMRegressor(max_depth=16,n_estimators=200,seed=1)\n",
    "LGBM.fit(X_train_renamed,Y_train)\n",
    "\n",
    "\n",
    "print('Train set mse:', mean_squared_error(Y_train, LGBM.predict(X_train)))\n",
    "print('Test set mse:', mean_squared_error(Y_test, LGBM.predict(X_test)))\n",
    "print('Test set score:', LGBM.score(X_train,Y_train))"
   ]
  },
  {
   "cell_type": "code",
   "execution_count": 74,
   "id": "a30815a5",
   "metadata": {},
   "outputs": [],
   "source": [
    "model = LGBMRegressor()"
   ]
  },
  {
   "cell_type": "code",
   "execution_count": 75,
   "id": "9d38117e",
   "metadata": {},
   "outputs": [],
   "source": [
    "# evaluate model\n",
    "scores_mse = cross_val_score(model, X, y, scoring='neg_mean_squared_error', cv=cv, n_jobs=-1)\n",
    "scores_mae = cross_val_score(model, X, y, scoring='neg_mean_absolute_error', cv=cv, n_jobs=-1)\n",
    "scores_r2 = cross_val_score(model, X, y, scoring='r2', cv=cv, n_jobs=-1)"
   ]
  },
  {
   "cell_type": "code",
   "execution_count": 76,
   "id": "95713aa3",
   "metadata": {},
   "outputs": [
    {
     "name": "stdout",
     "output_type": "stream",
     "text": [
      "Mean MSE: nan (2.581)\n",
      "Mean MAE: nan (2.581)\n",
      "Mean r2: nan (2.581)\n"
     ]
    }
   ],
   "source": [
    "print('Mean MSE: %.3f (%.3f)' % (scores_mse.mean(), scores.std()) )\n",
    "print('Mean MAE: %.3f (%.3f)' % (scores_mae.mean(), scores.std()) )\n",
    "print('Mean r2: %.3f (%.3f)' % (scores_r2.mean(), scores.std()) )"
   ]
  },
  {
   "cell_type": "markdown",
   "id": "e66922d0",
   "metadata": {},
   "source": [
    "# Step 5: Cross Validation using Classification Algorithms"
   ]
  },
  {
   "cell_type": "markdown",
   "id": "eee9814e",
   "metadata": {},
   "source": [
    "### Data Preparation"
   ]
  },
  {
   "cell_type": "code",
   "execution_count": 77,
   "id": "e48130b8",
   "metadata": {},
   "outputs": [],
   "source": [
    "df2 = df_main.copy()"
   ]
  },
  {
   "cell_type": "code",
   "execution_count": 78,
   "id": "7928961e",
   "metadata": {},
   "outputs": [
    {
     "data": {
      "text/plain": [
       "(1088, 49)"
      ]
     },
     "execution_count": 78,
     "metadata": {},
     "output_type": "execute_result"
    }
   ],
   "source": [
    "# Drop rows with missing values\n",
    "df2 = df.dropna()\n",
    "df2.shape"
   ]
  },
  {
   "cell_type": "code",
   "execution_count": 79,
   "id": "3ddbd406",
   "metadata": {},
   "outputs": [],
   "source": [
    "df2[ind_var] = np.where(df2[ind_var] >= 7, \"A\", \n",
    "                            np.where(df2[ind_var] >= 5, \"B\", \n",
    "                            np.where(df2[ind_var] >= 3, \"C\", \n",
    "                            np.where(df2[ind_var] >= 1, \"D\", \"None\"))))"
   ]
  },
  {
   "cell_type": "code",
   "execution_count": 80,
   "id": "6c1c5fcc",
   "metadata": {},
   "outputs": [
    {
     "data": {
      "text/plain": [
       "B    601\n",
       "C    294\n",
       "A    128\n",
       "D     65\n",
       "Name: School Activities, dtype: int64"
      ]
     },
     "execution_count": 80,
     "metadata": {},
     "output_type": "execute_result"
    }
   ],
   "source": [
    "df2[ind_var].value_counts()"
   ]
  },
  {
   "cell_type": "code",
   "execution_count": 81,
   "id": "6c631fc3",
   "metadata": {},
   "outputs": [],
   "source": [
    "df2_pred = df2[feature]"
   ]
  },
  {
   "cell_type": "code",
   "execution_count": 82,
   "id": "de09bc6d",
   "metadata": {},
   "outputs": [
    {
     "data": {
      "text/html": [
       "<div>\n",
       "<style scoped>\n",
       "    .dataframe tbody tr th:only-of-type {\n",
       "        vertical-align: middle;\n",
       "    }\n",
       "\n",
       "    .dataframe tbody tr th {\n",
       "        vertical-align: top;\n",
       "    }\n",
       "\n",
       "    .dataframe thead th {\n",
       "        text-align: right;\n",
       "    }\n",
       "</style>\n",
       "<table border=\"1\" class=\"dataframe\">\n",
       "  <thead>\n",
       "    <tr style=\"text-align: right;\">\n",
       "      <th>indicator</th>\n",
       "      <th>Safety and Security: Policies, Plans and Programs</th>\n",
       "      <th>Guidance Counseling and Health Clinic</th>\n",
       "      <th>Financial Procedures and Protocols</th>\n",
       "      <th>Staff Assessment System</th>\n",
       "      <th>Plan and Implementation</th>\n",
       "      <th>Asset Monitoring System</th>\n",
       "    </tr>\n",
       "  </thead>\n",
       "  <tbody>\n",
       "    <tr>\n",
       "      <th>0</th>\n",
       "      <td>5.000000</td>\n",
       "      <td>3.857143</td>\n",
       "      <td>4.428571</td>\n",
       "      <td>4.142857</td>\n",
       "      <td>4.428571</td>\n",
       "      <td>3.857143</td>\n",
       "    </tr>\n",
       "    <tr>\n",
       "      <th>1</th>\n",
       "      <td>7.000000</td>\n",
       "      <td>6.600000</td>\n",
       "      <td>7.000000</td>\n",
       "      <td>7.000000</td>\n",
       "      <td>7.000000</td>\n",
       "      <td>7.000000</td>\n",
       "    </tr>\n",
       "    <tr>\n",
       "      <th>2</th>\n",
       "      <td>3.666667</td>\n",
       "      <td>3.666667</td>\n",
       "      <td>3.666667</td>\n",
       "      <td>3.000000</td>\n",
       "      <td>3.000000</td>\n",
       "      <td>3.666667</td>\n",
       "    </tr>\n",
       "    <tr>\n",
       "      <th>3</th>\n",
       "      <td>3.400000</td>\n",
       "      <td>3.400000</td>\n",
       "      <td>3.800000</td>\n",
       "      <td>3.400000</td>\n",
       "      <td>5.000000</td>\n",
       "      <td>1.800000</td>\n",
       "    </tr>\n",
       "    <tr>\n",
       "      <th>4</th>\n",
       "      <td>3.000000</td>\n",
       "      <td>5.000000</td>\n",
       "      <td>3.000000</td>\n",
       "      <td>5.000000</td>\n",
       "      <td>5.000000</td>\n",
       "      <td>3.000000</td>\n",
       "    </tr>\n",
       "  </tbody>\n",
       "</table>\n",
       "</div>"
      ],
      "text/plain": [
       "indicator  Safety and Security: Policies, Plans and Programs  \\\n",
       "0                                                   5.000000   \n",
       "1                                                   7.000000   \n",
       "2                                                   3.666667   \n",
       "3                                                   3.400000   \n",
       "4                                                   3.000000   \n",
       "\n",
       "indicator  Guidance Counseling and Health Clinic  \\\n",
       "0                                       3.857143   \n",
       "1                                       6.600000   \n",
       "2                                       3.666667   \n",
       "3                                       3.400000   \n",
       "4                                       5.000000   \n",
       "\n",
       "indicator  Financial Procedures and Protocols  Staff Assessment System  \\\n",
       "0                                    4.428571                 4.142857   \n",
       "1                                    7.000000                 7.000000   \n",
       "2                                    3.666667                 3.000000   \n",
       "3                                    3.800000                 3.400000   \n",
       "4                                    3.000000                 5.000000   \n",
       "\n",
       "indicator  Plan and Implementation  Asset Monitoring System  \n",
       "0                         4.428571                 3.857143  \n",
       "1                         7.000000                 7.000000  \n",
       "2                         3.000000                 3.666667  \n",
       "3                         5.000000                 1.800000  \n",
       "4                         5.000000                 3.000000  "
      ]
     },
     "execution_count": 82,
     "metadata": {},
     "output_type": "execute_result"
    }
   ],
   "source": [
    "df2_pred.head()"
   ]
  },
  {
   "cell_type": "code",
   "execution_count": 83,
   "id": "6746e5ea",
   "metadata": {},
   "outputs": [
    {
     "data": {
      "text/html": [
       "<div>\n",
       "<style scoped>\n",
       "    .dataframe tbody tr th:only-of-type {\n",
       "        vertical-align: middle;\n",
       "    }\n",
       "\n",
       "    .dataframe tbody tr th {\n",
       "        vertical-align: top;\n",
       "    }\n",
       "\n",
       "    .dataframe thead th {\n",
       "        text-align: right;\n",
       "    }\n",
       "</style>\n",
       "<table border=\"1\" class=\"dataframe\">\n",
       "  <thead>\n",
       "    <tr style=\"text-align: right;\">\n",
       "      <th>indicator</th>\n",
       "      <th>Safety and Security: Policies, Plans and Programs</th>\n",
       "      <th>Guidance Counseling and Health Clinic</th>\n",
       "      <th>Financial Procedures and Protocols</th>\n",
       "      <th>Staff Assessment System</th>\n",
       "      <th>Plan and Implementation</th>\n",
       "      <th>Asset Monitoring System</th>\n",
       "    </tr>\n",
       "  </thead>\n",
       "  <tbody>\n",
       "    <tr>\n",
       "      <th>0</th>\n",
       "      <td>1.609</td>\n",
       "      <td>1.350</td>\n",
       "      <td>1.488</td>\n",
       "      <td>1.421</td>\n",
       "      <td>1.488</td>\n",
       "      <td>1.350</td>\n",
       "    </tr>\n",
       "    <tr>\n",
       "      <th>1</th>\n",
       "      <td>1.946</td>\n",
       "      <td>1.887</td>\n",
       "      <td>1.946</td>\n",
       "      <td>1.946</td>\n",
       "      <td>1.946</td>\n",
       "      <td>1.946</td>\n",
       "    </tr>\n",
       "    <tr>\n",
       "      <th>2</th>\n",
       "      <td>1.299</td>\n",
       "      <td>1.299</td>\n",
       "      <td>1.299</td>\n",
       "      <td>1.099</td>\n",
       "      <td>1.099</td>\n",
       "      <td>1.299</td>\n",
       "    </tr>\n",
       "    <tr>\n",
       "      <th>3</th>\n",
       "      <td>1.224</td>\n",
       "      <td>1.224</td>\n",
       "      <td>1.335</td>\n",
       "      <td>1.224</td>\n",
       "      <td>1.609</td>\n",
       "      <td>0.588</td>\n",
       "    </tr>\n",
       "    <tr>\n",
       "      <th>4</th>\n",
       "      <td>1.099</td>\n",
       "      <td>1.609</td>\n",
       "      <td>1.099</td>\n",
       "      <td>1.609</td>\n",
       "      <td>1.609</td>\n",
       "      <td>1.099</td>\n",
       "    </tr>\n",
       "  </tbody>\n",
       "</table>\n",
       "</div>"
      ],
      "text/plain": [
       "indicator  Safety and Security: Policies, Plans and Programs  \\\n",
       "0                                                      1.609   \n",
       "1                                                      1.946   \n",
       "2                                                      1.299   \n",
       "3                                                      1.224   \n",
       "4                                                      1.099   \n",
       "\n",
       "indicator  Guidance Counseling and Health Clinic  \\\n",
       "0                                          1.350   \n",
       "1                                          1.887   \n",
       "2                                          1.299   \n",
       "3                                          1.224   \n",
       "4                                          1.609   \n",
       "\n",
       "indicator  Financial Procedures and Protocols  Staff Assessment System  \\\n",
       "0                                       1.488                    1.421   \n",
       "1                                       1.946                    1.946   \n",
       "2                                       1.299                    1.099   \n",
       "3                                       1.335                    1.224   \n",
       "4                                       1.099                    1.609   \n",
       "\n",
       "indicator  Plan and Implementation  Asset Monitoring System  \n",
       "0                            1.488                    1.350  \n",
       "1                            1.946                    1.946  \n",
       "2                            1.099                    1.299  \n",
       "3                            1.609                    0.588  \n",
       "4                            1.609                    1.099  "
      ]
     },
     "execution_count": 83,
     "metadata": {},
     "output_type": "execute_result"
    }
   ],
   "source": [
    "# transform the attibutes to normalize\n",
    "df2_log = df2_pred.apply(np.log, axis = 1).round(3)\n",
    "df2_log.head()"
   ]
  },
  {
   "cell_type": "code",
   "execution_count": 84,
   "id": "6e22fe8e",
   "metadata": {},
   "outputs": [
    {
     "data": {
      "text/html": [
       "<div>\n",
       "<style scoped>\n",
       "    .dataframe tbody tr th:only-of-type {\n",
       "        vertical-align: middle;\n",
       "    }\n",
       "\n",
       "    .dataframe tbody tr th {\n",
       "        vertical-align: top;\n",
       "    }\n",
       "\n",
       "    .dataframe thead th {\n",
       "        text-align: right;\n",
       "    }\n",
       "</style>\n",
       "<table border=\"1\" class=\"dataframe\">\n",
       "  <thead>\n",
       "    <tr style=\"text-align: right;\">\n",
       "      <th>indicator</th>\n",
       "      <th>Safety and Security: Policies, Plans and Programs</th>\n",
       "      <th>Guidance Counseling and Health Clinic</th>\n",
       "      <th>Financial Procedures and Protocols</th>\n",
       "      <th>Staff Assessment System</th>\n",
       "      <th>Plan and Implementation</th>\n",
       "      <th>Asset Monitoring System</th>\n",
       "    </tr>\n",
       "  </thead>\n",
       "  <tbody>\n",
       "    <tr>\n",
       "      <th>count</th>\n",
       "      <td>1088.000000</td>\n",
       "      <td>1088.000000</td>\n",
       "      <td>1088.000000</td>\n",
       "      <td>1088.000000</td>\n",
       "      <td>1088.000000</td>\n",
       "      <td>1088.000000</td>\n",
       "    </tr>\n",
       "    <tr>\n",
       "      <th>mean</th>\n",
       "      <td>1.451221</td>\n",
       "      <td>1.441780</td>\n",
       "      <td>1.537578</td>\n",
       "      <td>1.519756</td>\n",
       "      <td>1.479073</td>\n",
       "      <td>1.500531</td>\n",
       "    </tr>\n",
       "    <tr>\n",
       "      <th>std</th>\n",
       "      <td>0.404943</td>\n",
       "      <td>0.443712</td>\n",
       "      <td>0.357043</td>\n",
       "      <td>0.364146</td>\n",
       "      <td>0.392756</td>\n",
       "      <td>0.342897</td>\n",
       "    </tr>\n",
       "    <tr>\n",
       "      <th>min</th>\n",
       "      <td>0.000000</td>\n",
       "      <td>0.000000</td>\n",
       "      <td>0.000000</td>\n",
       "      <td>0.000000</td>\n",
       "      <td>0.000000</td>\n",
       "      <td>0.000000</td>\n",
       "    </tr>\n",
       "    <tr>\n",
       "      <th>25%</th>\n",
       "      <td>1.253000</td>\n",
       "      <td>1.175000</td>\n",
       "      <td>1.299000</td>\n",
       "      <td>1.299000</td>\n",
       "      <td>1.299000</td>\n",
       "      <td>1.299000</td>\n",
       "    </tr>\n",
       "    <tr>\n",
       "      <th>50%</th>\n",
       "      <td>1.609000</td>\n",
       "      <td>1.609000</td>\n",
       "      <td>1.609000</td>\n",
       "      <td>1.609000</td>\n",
       "      <td>1.609000</td>\n",
       "      <td>1.609000</td>\n",
       "    </tr>\n",
       "    <tr>\n",
       "      <th>75%</th>\n",
       "      <td>1.735000</td>\n",
       "      <td>1.735000</td>\n",
       "      <td>1.825000</td>\n",
       "      <td>1.792000</td>\n",
       "      <td>1.758000</td>\n",
       "      <td>1.735000</td>\n",
       "    </tr>\n",
       "    <tr>\n",
       "      <th>max</th>\n",
       "      <td>1.946000</td>\n",
       "      <td>1.946000</td>\n",
       "      <td>1.946000</td>\n",
       "      <td>1.946000</td>\n",
       "      <td>1.946000</td>\n",
       "      <td>1.946000</td>\n",
       "    </tr>\n",
       "  </tbody>\n",
       "</table>\n",
       "</div>"
      ],
      "text/plain": [
       "indicator  Safety and Security: Policies, Plans and Programs  \\\n",
       "count                                            1088.000000   \n",
       "mean                                                1.451221   \n",
       "std                                                 0.404943   \n",
       "min                                                 0.000000   \n",
       "25%                                                 1.253000   \n",
       "50%                                                 1.609000   \n",
       "75%                                                 1.735000   \n",
       "max                                                 1.946000   \n",
       "\n",
       "indicator  Guidance Counseling and Health Clinic  \\\n",
       "count                                1088.000000   \n",
       "mean                                    1.441780   \n",
       "std                                     0.443712   \n",
       "min                                     0.000000   \n",
       "25%                                     1.175000   \n",
       "50%                                     1.609000   \n",
       "75%                                     1.735000   \n",
       "max                                     1.946000   \n",
       "\n",
       "indicator  Financial Procedures and Protocols  Staff Assessment System  \\\n",
       "count                             1088.000000              1088.000000   \n",
       "mean                                 1.537578                 1.519756   \n",
       "std                                  0.357043                 0.364146   \n",
       "min                                  0.000000                 0.000000   \n",
       "25%                                  1.299000                 1.299000   \n",
       "50%                                  1.609000                 1.609000   \n",
       "75%                                  1.825000                 1.792000   \n",
       "max                                  1.946000                 1.946000   \n",
       "\n",
       "indicator  Plan and Implementation  Asset Monitoring System  \n",
       "count                  1088.000000              1088.000000  \n",
       "mean                      1.479073                 1.500531  \n",
       "std                       0.392756                 0.342897  \n",
       "min                       0.000000                 0.000000  \n",
       "25%                       1.299000                 1.299000  \n",
       "50%                       1.609000                 1.609000  \n",
       "75%                       1.758000                 1.735000  \n",
       "max                       1.946000                 1.946000  "
      ]
     },
     "execution_count": 84,
     "metadata": {},
     "output_type": "execute_result"
    }
   ],
   "source": [
    "df2_log.describe()"
   ]
  },
  {
   "cell_type": "code",
   "execution_count": 85,
   "id": "4d28f605",
   "metadata": {},
   "outputs": [
    {
     "data": {
      "text/plain": [
       "(1088, 6)"
      ]
     },
     "execution_count": 85,
     "metadata": {},
     "output_type": "execute_result"
    }
   ],
   "source": [
    "# Rescale the attributes\n",
    "df2_final = df2_log[feature]\n",
    "\n",
    "# Instantiate\n",
    "scaler = StandardScaler()\n",
    "\n",
    "# fit_transform\n",
    "df2_scaled = scaler.fit_transform(df2_final)\n",
    "df2_scaled.shape"
   ]
  },
  {
   "cell_type": "code",
   "execution_count": 86,
   "id": "0ea5f668",
   "metadata": {},
   "outputs": [
    {
     "data": {
      "text/html": [
       "<div>\n",
       "<style scoped>\n",
       "    .dataframe tbody tr th:only-of-type {\n",
       "        vertical-align: middle;\n",
       "    }\n",
       "\n",
       "    .dataframe tbody tr th {\n",
       "        vertical-align: top;\n",
       "    }\n",
       "\n",
       "    .dataframe thead th {\n",
       "        text-align: right;\n",
       "    }\n",
       "</style>\n",
       "<table border=\"1\" class=\"dataframe\">\n",
       "  <thead>\n",
       "    <tr style=\"text-align: right;\">\n",
       "      <th></th>\n",
       "      <th>Safety and Security: Policies, Plans and Programs</th>\n",
       "      <th>Guidance Counseling and Health Clinic</th>\n",
       "      <th>Financial Procedures and Protocols</th>\n",
       "      <th>Staff Assessment System</th>\n",
       "      <th>Plan and Implementation</th>\n",
       "      <th>Asset Monitoring System</th>\n",
       "    </tr>\n",
       "  </thead>\n",
       "  <tbody>\n",
       "    <tr>\n",
       "      <th>0</th>\n",
       "      <td>0.389813</td>\n",
       "      <td>-0.206942</td>\n",
       "      <td>-0.138921</td>\n",
       "      <td>-0.271325</td>\n",
       "      <td>0.022741</td>\n",
       "      <td>-0.439201</td>\n",
       "    </tr>\n",
       "    <tr>\n",
       "      <th>1</th>\n",
       "      <td>1.222412</td>\n",
       "      <td>1.003860</td>\n",
       "      <td>1.144428</td>\n",
       "      <td>1.171067</td>\n",
       "      <td>1.189396</td>\n",
       "      <td>1.299731</td>\n",
       "    </tr>\n",
       "    <tr>\n",
       "      <th>2</th>\n",
       "      <td>-0.376079</td>\n",
       "      <td>-0.321934</td>\n",
       "      <td>-0.668513</td>\n",
       "      <td>-1.155992</td>\n",
       "      <td>-0.968152</td>\n",
       "      <td>-0.588002</td>\n",
       "    </tr>\n",
       "    <tr>\n",
       "      <th>3</th>\n",
       "      <td>-0.561376</td>\n",
       "      <td>-0.491041</td>\n",
       "      <td>-0.567639</td>\n",
       "      <td>-0.812565</td>\n",
       "      <td>0.330962</td>\n",
       "      <td>-2.662466</td>\n",
       "    </tr>\n",
       "    <tr>\n",
       "      <th>4</th>\n",
       "      <td>-0.870204</td>\n",
       "      <td>0.377039</td>\n",
       "      <td>-1.228928</td>\n",
       "      <td>0.245189</td>\n",
       "      <td>0.330962</td>\n",
       "      <td>-1.171536</td>\n",
       "    </tr>\n",
       "  </tbody>\n",
       "</table>\n",
       "</div>"
      ],
      "text/plain": [
       "   Safety and Security: Policies, Plans and Programs  \\\n",
       "0                                           0.389813   \n",
       "1                                           1.222412   \n",
       "2                                          -0.376079   \n",
       "3                                          -0.561376   \n",
       "4                                          -0.870204   \n",
       "\n",
       "   Guidance Counseling and Health Clinic  Financial Procedures and Protocols  \\\n",
       "0                              -0.206942                           -0.138921   \n",
       "1                               1.003860                            1.144428   \n",
       "2                              -0.321934                           -0.668513   \n",
       "3                              -0.491041                           -0.567639   \n",
       "4                               0.377039                           -1.228928   \n",
       "\n",
       "   Staff Assessment System  Plan and Implementation  Asset Monitoring System  \n",
       "0                -0.271325                 0.022741                -0.439201  \n",
       "1                 1.171067                 1.189396                 1.299731  \n",
       "2                -1.155992                -0.968152                -0.588002  \n",
       "3                -0.812565                 0.330962                -2.662466  \n",
       "4                 0.245189                 0.330962                -1.171536  "
      ]
     },
     "execution_count": 86,
     "metadata": {},
     "output_type": "execute_result"
    }
   ],
   "source": [
    "df2_scaled = pd.DataFrame(df2_scaled)\n",
    "df2_scaled.columns = feature\n",
    "df2_scaled.head()"
   ]
  },
  {
   "cell_type": "markdown",
   "id": "43aa98e9",
   "metadata": {},
   "source": [
    "### Modelling"
   ]
  },
  {
   "cell_type": "code",
   "execution_count": 87,
   "id": "3a067208",
   "metadata": {},
   "outputs": [],
   "source": [
    "X = df2_scaled.copy()\n",
    "y = df2[ind_var]"
   ]
  },
  {
   "cell_type": "code",
   "execution_count": 88,
   "id": "311d8ae2",
   "metadata": {},
   "outputs": [],
   "source": [
    "# split dataset into train and test sets\n",
    "from sklearn.model_selection import train_test_split\n",
    "X_train, X_test, Y_train, Y_test = train_test_split(X, y, train_size = 0.7, test_size = 0.3, random_state = 123)"
   ]
  },
  {
   "cell_type": "code",
   "execution_count": 89,
   "id": "5fb8b128",
   "metadata": {},
   "outputs": [
    {
     "data": {
      "text/html": [
       "<div>\n",
       "<style scoped>\n",
       "    .dataframe tbody tr th:only-of-type {\n",
       "        vertical-align: middle;\n",
       "    }\n",
       "\n",
       "    .dataframe tbody tr th {\n",
       "        vertical-align: top;\n",
       "    }\n",
       "\n",
       "    .dataframe thead th {\n",
       "        text-align: right;\n",
       "    }\n",
       "</style>\n",
       "<table border=\"1\" class=\"dataframe\">\n",
       "  <thead>\n",
       "    <tr style=\"text-align: right;\">\n",
       "      <th></th>\n",
       "      <th>Safety and Security: Policies, Plans and Programs</th>\n",
       "      <th>Guidance Counseling and Health Clinic</th>\n",
       "      <th>Financial Procedures and Protocols</th>\n",
       "      <th>Staff Assessment System</th>\n",
       "      <th>Plan and Implementation</th>\n",
       "      <th>Asset Monitoring System</th>\n",
       "    </tr>\n",
       "  </thead>\n",
       "  <tbody>\n",
       "    <tr>\n",
       "      <th>578</th>\n",
       "      <td>-0.376079</td>\n",
       "      <td>0.054609</td>\n",
       "      <td>0.788564</td>\n",
       "      <td>0.591363</td>\n",
       "      <td>0.496535</td>\n",
       "      <td>0.316476</td>\n",
       "    </tr>\n",
       "    <tr>\n",
       "      <th>91</th>\n",
       "      <td>-1.322327</td>\n",
       "      <td>-0.125771</td>\n",
       "      <td>-1.228928</td>\n",
       "      <td>-0.367484</td>\n",
       "      <td>-0.968152</td>\n",
       "      <td>-0.722215</td>\n",
       "    </tr>\n",
       "    <tr>\n",
       "      <th>170</th>\n",
       "      <td>-0.376079</td>\n",
       "      <td>0.054609</td>\n",
       "      <td>-0.797408</td>\n",
       "      <td>-0.367484</td>\n",
       "      <td>-1.434305</td>\n",
       "      <td>-0.334165</td>\n",
       "    </tr>\n",
       "    <tr>\n",
       "      <th>272</th>\n",
       "      <td>0.701111</td>\n",
       "      <td>0.054609</td>\n",
       "      <td>-0.200567</td>\n",
       "      <td>-0.147691</td>\n",
       "      <td>-0.033300</td>\n",
       "      <td>-0.100751</td>\n",
       "    </tr>\n",
       "    <tr>\n",
       "      <th>75</th>\n",
       "      <td>0.036514</td>\n",
       "      <td>0.661138</td>\n",
       "      <td>0.553190</td>\n",
       "      <td>0.797419</td>\n",
       "      <td>-0.033300</td>\n",
       "      <td>1.007964</td>\n",
       "    </tr>\n",
       "  </tbody>\n",
       "</table>\n",
       "</div>"
      ],
      "text/plain": [
       "     Safety and Security: Policies, Plans and Programs  \\\n",
       "578                                          -0.376079   \n",
       "91                                           -1.322327   \n",
       "170                                          -0.376079   \n",
       "272                                           0.701111   \n",
       "75                                            0.036514   \n",
       "\n",
       "     Guidance Counseling and Health Clinic  \\\n",
       "578                               0.054609   \n",
       "91                               -0.125771   \n",
       "170                               0.054609   \n",
       "272                               0.054609   \n",
       "75                                0.661138   \n",
       "\n",
       "     Financial Procedures and Protocols  Staff Assessment System  \\\n",
       "578                            0.788564                 0.591363   \n",
       "91                            -1.228928                -0.367484   \n",
       "170                           -0.797408                -0.367484   \n",
       "272                           -0.200567                -0.147691   \n",
       "75                             0.553190                 0.797419   \n",
       "\n",
       "     Plan and Implementation  Asset Monitoring System  \n",
       "578                 0.496535                 0.316476  \n",
       "91                 -0.968152                -0.722215  \n",
       "170                -1.434305                -0.334165  \n",
       "272                -0.033300                -0.100751  \n",
       "75                 -0.033300                 1.007964  "
      ]
     },
     "execution_count": 89,
     "metadata": {},
     "output_type": "execute_result"
    }
   ],
   "source": [
    "# Let's now take a look at the train dataset\n",
    "X_train.head()"
   ]
  },
  {
   "cell_type": "code",
   "execution_count": 90,
   "id": "28cb8e3b",
   "metadata": {},
   "outputs": [
    {
     "data": {
      "text/plain": [
       "582    C\n",
       "92     C\n",
       "174    C\n",
       "276    A\n",
       "76     C\n",
       "Name: School Activities, dtype: object"
      ]
     },
     "execution_count": 90,
     "metadata": {},
     "output_type": "execute_result"
    }
   ],
   "source": [
    "Y_train.head()"
   ]
  },
  {
   "cell_type": "code",
   "execution_count": 91,
   "id": "c4f08752",
   "metadata": {},
   "outputs": [
    {
     "name": "stdout",
     "output_type": "stream",
     "text": [
      "(761, 6)\n",
      "(327, 6)\n",
      "(761,)\n",
      "(327,)\n"
     ]
    }
   ],
   "source": [
    "print(X_train.shape)\n",
    "print(X_test.shape)\n",
    "print(Y_train.shape)\n",
    "print(Y_test.shape)"
   ]
  },
  {
   "cell_type": "code",
   "execution_count": 92,
   "id": "d9dae72b",
   "metadata": {},
   "outputs": [],
   "source": [
    "# define model evaluation method\n",
    "cv = RepeatedKFold(n_splits=10, n_repeats=3, random_state=1)"
   ]
  },
  {
   "cell_type": "markdown",
   "id": "6b2d2d12",
   "metadata": {},
   "source": [
    "## 1. Logistic Regression"
   ]
  },
  {
   "cell_type": "code",
   "execution_count": 93,
   "id": "902e921a",
   "metadata": {},
   "outputs": [],
   "source": [
    "from sklearn.linear_model import LogisticRegression\n",
    "model = LogisticRegression(random_state=42)"
   ]
  },
  {
   "cell_type": "code",
   "execution_count": 94,
   "id": "7245b317",
   "metadata": {},
   "outputs": [
    {
     "name": "stdout",
     "output_type": "stream",
     "text": [
      "62.68 accuracy with a standard deviation of 4.33\n"
     ]
    }
   ],
   "source": [
    "scores = cross_val_score(model, X, y, scoring='accuracy', cv = cv)\n",
    "print(\"%0.2f accuracy with a standard deviation of %0.2f\" % (scores.mean()*100, scores.std()*100))"
   ]
  },
  {
   "cell_type": "markdown",
   "id": "74ac9bac",
   "metadata": {},
   "source": [
    "## 2. Decision Tree"
   ]
  },
  {
   "cell_type": "code",
   "execution_count": 95,
   "id": "8f593ac6",
   "metadata": {},
   "outputs": [],
   "source": [
    "from sklearn.tree import DecisionTreeClassifier\n",
    "model = DecisionTreeClassifier(random_state=42)"
   ]
  },
  {
   "cell_type": "code",
   "execution_count": 96,
   "id": "0bdd9c08",
   "metadata": {},
   "outputs": [
    {
     "name": "stdout",
     "output_type": "stream",
     "text": [
      "53.98 accuracy with a standard deviation of 4.97\n"
     ]
    }
   ],
   "source": [
    "scores = cross_val_score(model, X, y, scoring='accuracy', cv = cv)\n",
    "print(\"%0.2f accuracy with a standard deviation of %0.2f\" % (scores.mean()*100, scores.std()*100))"
   ]
  },
  {
   "cell_type": "markdown",
   "id": "7ac84dde",
   "metadata": {},
   "source": [
    "## 4. Random Forest"
   ]
  },
  {
   "cell_type": "code",
   "execution_count": 97,
   "id": "76987d2d",
   "metadata": {},
   "outputs": [],
   "source": [
    "from sklearn.ensemble import RandomForestClassifier\n",
    "model = RandomForestClassifier(random_state=42)"
   ]
  },
  {
   "cell_type": "code",
   "execution_count": 98,
   "id": "1e5be6cb",
   "metadata": {},
   "outputs": [
    {
     "name": "stdout",
     "output_type": "stream",
     "text": [
      "60.81 accuracy with a standard deviation of 4.99\n"
     ]
    }
   ],
   "source": [
    "scores = cross_val_score(model, X, y, scoring='accuracy', cv = cv)\n",
    "print(\"%0.2f accuracy with a standard deviation of %0.2f\" % (scores.mean()*100, scores.std()*100))"
   ]
  },
  {
   "cell_type": "markdown",
   "id": "cab81b27",
   "metadata": {},
   "source": [
    "## 4. Support Vector Machine"
   ]
  },
  {
   "cell_type": "code",
   "execution_count": 99,
   "id": "d62421e7",
   "metadata": {},
   "outputs": [],
   "source": [
    "from sklearn.svm import SVC\n",
    "model = SVC(random_state=42)"
   ]
  },
  {
   "cell_type": "code",
   "execution_count": 100,
   "id": "238ef210",
   "metadata": {},
   "outputs": [
    {
     "name": "stdout",
     "output_type": "stream",
     "text": [
      "62.86 accuracy with a standard deviation of 5.48\n"
     ]
    }
   ],
   "source": [
    "scores = cross_val_score(model, X, y, scoring='accuracy', cv = cv)\n",
    "print(\"%0.2f accuracy with a standard deviation of %0.2f\" % (scores.mean()*100, scores.std()*100))"
   ]
  },
  {
   "cell_type": "markdown",
   "id": "df9be9a5",
   "metadata": {},
   "source": [
    "## 5. K-Nearest Neighbour (KNN)"
   ]
  },
  {
   "cell_type": "code",
   "execution_count": 101,
   "id": "49bce133",
   "metadata": {},
   "outputs": [],
   "source": [
    "from sklearn.neighbors import KNeighborsClassifier\n",
    "model = KNeighborsClassifier()"
   ]
  },
  {
   "cell_type": "code",
   "execution_count": 102,
   "id": "815b7933",
   "metadata": {},
   "outputs": [
    {
     "name": "stdout",
     "output_type": "stream",
     "text": [
      "59.37 accuracy with a standard deviation of 4.81\n"
     ]
    }
   ],
   "source": [
    "scores = cross_val_score(model, X, y, scoring='accuracy', cv = cv)\n",
    "print(\"%0.2f accuracy with a standard deviation of %0.2f\" % (scores.mean()*100, scores.std()*100))"
   ]
  },
  {
   "cell_type": "markdown",
   "id": "9e17ff30",
   "metadata": {},
   "source": [
    "## 6. Naive Bayes"
   ]
  },
  {
   "cell_type": "code",
   "execution_count": 103,
   "id": "5ac42875",
   "metadata": {},
   "outputs": [],
   "source": [
    "from sklearn.naive_bayes import GaussianNB\n",
    "model = KNeighborsClassifier()"
   ]
  },
  {
   "cell_type": "code",
   "execution_count": 104,
   "id": "29372b28",
   "metadata": {},
   "outputs": [
    {
     "name": "stdout",
     "output_type": "stream",
     "text": [
      "59.37 accuracy with a standard deviation of 4.81\n"
     ]
    }
   ],
   "source": [
    "scores = cross_val_score(model, X, y, scoring='accuracy', cv = cv)\n",
    "print(\"%0.2f accuracy with a standard deviation of %0.2f\" % (scores.mean()*100, scores.std()*100))"
   ]
  },
  {
   "cell_type": "code",
   "execution_count": 105,
   "id": "44264f7d",
   "metadata": {},
   "outputs": [
    {
     "name": "stdout",
     "output_type": "stream",
     "text": [
      "The end.\n"
     ]
    }
   ],
   "source": [
    "print('The end.')"
   ]
  }
 ],
 "metadata": {
  "kernelspec": {
   "display_name": "Python 3 (ipykernel)",
   "language": "python",
   "name": "python3"
  },
  "language_info": {
   "codemirror_mode": {
    "name": "ipython",
    "version": 3
   },
   "file_extension": ".py",
   "mimetype": "text/x-python",
   "name": "python",
   "nbconvert_exporter": "python",
   "pygments_lexer": "ipython3",
   "version": "3.9.7"
  }
 },
 "nbformat": 4,
 "nbformat_minor": 5
}
