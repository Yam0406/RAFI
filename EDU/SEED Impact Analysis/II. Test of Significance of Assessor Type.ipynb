{
 "cells": [
  {
   "cell_type": "markdown",
   "id": "8053e99a",
   "metadata": {},
   "source": [
    "# Test of Significance of Assessor Type"
   ]
  },
  {
   "cell_type": "markdown",
   "id": "19d32b21",
   "metadata": {},
   "source": [
    "# Step 1 : Load libraries"
   ]
  },
  {
   "cell_type": "code",
   "execution_count": 4,
   "id": "866786af",
   "metadata": {},
   "outputs": [],
   "source": [
    "# import required libraries for dataframe and visualization\n",
    "\n",
    "import numpy as np\n",
    "import pandas as pd\n",
    "import matplotlib.pyplot as plt\n",
    "%matplotlib inline\n",
    "import seaborn as sns\n",
    "import datetime as dt\n",
    "\n",
    "# We dont Probably need the Gridlines. Do we? If yes comment this line\n",
    "sns.set(style=\"ticks\")\n",
    "flatui = [\"#9b59b6\", \"#3498db\", \"#95a5a6\", \"#e74c3c\", \"#34495e\", \"#2ecc71\"]\n",
    "flatui = sns.color_palette(flatui)\n",
    "\n",
    "# https://towardsdatascience.com/the-search-for-categorical-correlation-a1cf7f1888c9\n",
    "import scipy.stats as ss\n",
    "from collections import Counter\n",
    "import math \n",
    "from scipy import stats\n",
    "\n",
    "from sklearn.model_selection import cross_val_score\n",
    "from sklearn.model_selection import RepeatedKFold\n",
    "from numpy import absolute\n",
    "\n",
    "\n",
    "# import required libraries for clustering\n",
    "import sklearn\n",
    "from sklearn.preprocessing import StandardScaler\n",
    "from sklearn.cluster import KMeans\n",
    "from sklearn.metrics import silhouette_samples, silhouette_score\n",
    "from scipy.cluster.hierarchy import linkage\n",
    "from scipy.cluster.hierarchy import dendrogram\n",
    "from scipy.cluster.hierarchy import cut_tree"
   ]
  },
  {
   "cell_type": "markdown",
   "id": "ceae3d3d",
   "metadata": {},
   "source": [
    "# Step 2: Read and transform data"
   ]
  },
  {
   "cell_type": "code",
   "execution_count": 5,
   "id": "3534a8b5",
   "metadata": {
    "scrolled": true
   },
   "outputs": [
    {
     "data": {
      "text/html": [
       "<div>\n",
       "<style scoped>\n",
       "    .dataframe tbody tr th:only-of-type {\n",
       "        vertical-align: middle;\n",
       "    }\n",
       "\n",
       "    .dataframe tbody tr th {\n",
       "        vertical-align: top;\n",
       "    }\n",
       "\n",
       "    .dataframe thead th {\n",
       "        text-align: right;\n",
       "    }\n",
       "</style>\n",
       "<table border=\"1\" class=\"dataframe\">\n",
       "  <thead>\n",
       "    <tr style=\"text-align: right;\">\n",
       "      <th></th>\n",
       "      <th>raw_score</th>\n",
       "      <th>Acquiring</th>\n",
       "      <th>Approaching</th>\n",
       "      <th>Progressing</th>\n",
       "      <th>Achieved Standards</th>\n",
       "      <th>Sort_PerformanceCode</th>\n",
       "      <th>2016-2018with Site Validation</th>\n",
       "      <th>2017-2018 with Site Validation</th>\n",
       "      <th>Comparison 2016-2018</th>\n",
       "      <th>Comparison 2017-2018</th>\n",
       "      <th>...</th>\n",
       "      <th>performance_value</th>\n",
       "      <th>evaluator_id</th>\n",
       "      <th>round_num</th>\n",
       "      <th>Comparison 2016-2019</th>\n",
       "      <th>Comparison 2017-2019</th>\n",
       "      <th>2019_concat_Name</th>\n",
       "      <th>Unnamed: 27</th>\n",
       "      <th>Unnamed: 28</th>\n",
       "      <th>Unnamed: 29</th>\n",
       "      <th>Unnamed: 30</th>\n",
       "    </tr>\n",
       "  </thead>\n",
       "  <tbody>\n",
       "    <tr>\n",
       "      <th>0</th>\n",
       "      <td>7</td>\n",
       "      <td>0</td>\n",
       "      <td>0</td>\n",
       "      <td>0</td>\n",
       "      <td>1</td>\n",
       "      <td>4</td>\n",
       "      <td>1.0</td>\n",
       "      <td>1.0</td>\n",
       "      <td>3.0</td>\n",
       "      <td>2.0</td>\n",
       "      <td>...</td>\n",
       "      <td>4</td>\n",
       "      <td>34501</td>\n",
       "      <td>Community Assessment</td>\n",
       "      <td>4</td>\n",
       "      <td>3</td>\n",
       "      <td>ElementaryABLAYAN ESDalaguete II</td>\n",
       "      <td>NaN</td>\n",
       "      <td>NaN</td>\n",
       "      <td>NaN</td>\n",
       "      <td>2019_concat_Name</td>\n",
       "    </tr>\n",
       "    <tr>\n",
       "      <th>1</th>\n",
       "      <td>5</td>\n",
       "      <td>0</td>\n",
       "      <td>0</td>\n",
       "      <td>1</td>\n",
       "      <td>0</td>\n",
       "      <td>3</td>\n",
       "      <td>1.0</td>\n",
       "      <td>1.0</td>\n",
       "      <td>3.0</td>\n",
       "      <td>2.0</td>\n",
       "      <td>...</td>\n",
       "      <td>3</td>\n",
       "      <td>34501</td>\n",
       "      <td>Community Assessment</td>\n",
       "      <td>4</td>\n",
       "      <td>3</td>\n",
       "      <td>ElementaryABLAYAN ESDalaguete II</td>\n",
       "      <td>NaN</td>\n",
       "      <td>NaN</td>\n",
       "      <td>NaN</td>\n",
       "      <td>NaN</td>\n",
       "    </tr>\n",
       "    <tr>\n",
       "      <th>2</th>\n",
       "      <td>5</td>\n",
       "      <td>0</td>\n",
       "      <td>0</td>\n",
       "      <td>1</td>\n",
       "      <td>0</td>\n",
       "      <td>3</td>\n",
       "      <td>1.0</td>\n",
       "      <td>1.0</td>\n",
       "      <td>3.0</td>\n",
       "      <td>2.0</td>\n",
       "      <td>...</td>\n",
       "      <td>3</td>\n",
       "      <td>34501</td>\n",
       "      <td>Community Assessment</td>\n",
       "      <td>4</td>\n",
       "      <td>3</td>\n",
       "      <td>ElementaryABLAYAN ESDalaguete II</td>\n",
       "      <td>NaN</td>\n",
       "      <td>NaN</td>\n",
       "      <td>NaN</td>\n",
       "      <td>NaN</td>\n",
       "    </tr>\n",
       "    <tr>\n",
       "      <th>3</th>\n",
       "      <td>7</td>\n",
       "      <td>0</td>\n",
       "      <td>0</td>\n",
       "      <td>0</td>\n",
       "      <td>1</td>\n",
       "      <td>4</td>\n",
       "      <td>1.0</td>\n",
       "      <td>1.0</td>\n",
       "      <td>3.0</td>\n",
       "      <td>2.0</td>\n",
       "      <td>...</td>\n",
       "      <td>4</td>\n",
       "      <td>34501</td>\n",
       "      <td>Community Assessment</td>\n",
       "      <td>4</td>\n",
       "      <td>3</td>\n",
       "      <td>ElementaryABLAYAN ESDalaguete II</td>\n",
       "      <td>NaN</td>\n",
       "      <td>NaN</td>\n",
       "      <td>NaN</td>\n",
       "      <td>NaN</td>\n",
       "    </tr>\n",
       "    <tr>\n",
       "      <th>4</th>\n",
       "      <td>7</td>\n",
       "      <td>0</td>\n",
       "      <td>0</td>\n",
       "      <td>0</td>\n",
       "      <td>1</td>\n",
       "      <td>4</td>\n",
       "      <td>1.0</td>\n",
       "      <td>1.0</td>\n",
       "      <td>3.0</td>\n",
       "      <td>2.0</td>\n",
       "      <td>...</td>\n",
       "      <td>4</td>\n",
       "      <td>34501</td>\n",
       "      <td>Community Assessment</td>\n",
       "      <td>4</td>\n",
       "      <td>3</td>\n",
       "      <td>ElementaryABLAYAN ESDalaguete II</td>\n",
       "      <td>NaN</td>\n",
       "      <td>NaN</td>\n",
       "      <td>NaN</td>\n",
       "      <td>NaN</td>\n",
       "    </tr>\n",
       "  </tbody>\n",
       "</table>\n",
       "<p>5 rows × 31 columns</p>\n",
       "</div>"
      ],
      "text/plain": [
       "   raw_score  Acquiring  Approaching  Progressing  Achieved Standards  \\\n",
       "0          7          0            0            0                   1   \n",
       "1          5          0            0            1                   0   \n",
       "2          5          0            0            1                   0   \n",
       "3          7          0            0            0                   1   \n",
       "4          7          0            0            0                   1   \n",
       "\n",
       "   Sort_PerformanceCode  2016-2018with Site Validation  \\\n",
       "0                     4                            1.0   \n",
       "1                     3                            1.0   \n",
       "2                     3                            1.0   \n",
       "3                     4                            1.0   \n",
       "4                     4                            1.0   \n",
       "\n",
       "   2017-2018 with Site Validation  Comparison 2016-2018  Comparison 2017-2018  \\\n",
       "0                             1.0                   3.0                   2.0   \n",
       "1                             1.0                   3.0                   2.0   \n",
       "2                             1.0                   3.0                   2.0   \n",
       "3                             1.0                   3.0                   2.0   \n",
       "4                             1.0                   3.0                   2.0   \n",
       "\n",
       "   ... performance_value evaluator_id             round_num  \\\n",
       "0  ...                 4        34501  Community Assessment   \n",
       "1  ...                 3        34501  Community Assessment   \n",
       "2  ...                 3        34501  Community Assessment   \n",
       "3  ...                 4        34501  Community Assessment   \n",
       "4  ...                 4        34501  Community Assessment   \n",
       "\n",
       "  Comparison 2016-2019 Comparison 2017-2019                  2019_concat_Name  \\\n",
       "0                    4                    3  ElementaryABLAYAN ESDalaguete II   \n",
       "1                    4                    3  ElementaryABLAYAN ESDalaguete II   \n",
       "2                    4                    3  ElementaryABLAYAN ESDalaguete II   \n",
       "3                    4                    3  ElementaryABLAYAN ESDalaguete II   \n",
       "4                    4                    3  ElementaryABLAYAN ESDalaguete II   \n",
       "\n",
       "  Unnamed: 27 Unnamed: 28 Unnamed: 29       Unnamed: 30  \n",
       "0         NaN         NaN         NaN  2019_concat_Name  \n",
       "1         NaN         NaN         NaN               NaN  \n",
       "2         NaN         NaN         NaN               NaN  \n",
       "3         NaN         NaN         NaN               NaN  \n",
       "4         NaN         NaN         NaN               NaN  \n",
       "\n",
       "[5 rows x 31 columns]"
      ]
     },
     "execution_count": 5,
     "metadata": {},
     "output_type": "execute_result"
    }
   ],
   "source": [
    "# Reading the data on which analysis needs to be done\n",
    "df_main = pd.read_excel(\"SEED2019_RawData_yoy.xlsx\", sheet_name='consolidated_data')\n",
    "df_main.head()"
   ]
  },
  {
   "cell_type": "code",
   "execution_count": 6,
   "id": "61ef28d3",
   "metadata": {},
   "outputs": [
    {
     "name": "stdout",
     "output_type": "stream",
     "text": [
      "<class 'pandas.core.frame.DataFrame'>\n",
      "RangeIndex: 589365 entries, 0 to 589364\n",
      "Data columns (total 31 columns):\n",
      " #   Column                          Non-Null Count   Dtype  \n",
      "---  ------                          --------------   -----  \n",
      " 0   raw_score                       589365 non-null  int64  \n",
      " 1   Acquiring                       589365 non-null  int64  \n",
      " 2   Approaching                     589365 non-null  int64  \n",
      " 3   Progressing                     589365 non-null  int64  \n",
      " 4   Achieved Standards              589365 non-null  int64  \n",
      " 5   Sort_PerformanceCode            589365 non-null  int64  \n",
      " 6   2016-2018with Site Validation   85598 non-null   float64\n",
      " 7   2017-2018 with Site Validation  85598 non-null   float64\n",
      " 8   Comparison 2016-2018            362088 non-null  float64\n",
      " 9   Comparison 2017-2018            362088 non-null  float64\n",
      " 10  allSchools                      589365 non-null  object \n",
      " 11  allschools_year                 589365 non-null  object \n",
      " 12  2018_concatSchoolName           543941 non-null  object \n",
      " 13  2016_17concatSchoolName         482139 non-null  object \n",
      " 14  Level                           589365 non-null  object \n",
      " 15  Year                            589365 non-null  int64  \n",
      " 16  school_name                     533669 non-null  object \n",
      " 17  district_name                   533669 non-null  object \n",
      " 18  kra_name                        589365 non-null  object \n",
      " 19  indicator                       589365 non-null  object \n",
      " 20  performance_code                589365 non-null  object \n",
      " 21  performance_value               589365 non-null  int64  \n",
      " 22  evaluator_id                    589365 non-null  object \n",
      " 23  round_num                       589365 non-null  object \n",
      " 24  Comparison 2016-2019            589365 non-null  int64  \n",
      " 25  Comparison 2017-2019            589365 non-null  int64  \n",
      " 26  2019_concat_Name                589365 non-null  object \n",
      " 27  Unnamed: 27                     0 non-null       float64\n",
      " 28  Unnamed: 28                     0 non-null       float64\n",
      " 29  Unnamed: 29                     0 non-null       float64\n",
      " 30  Unnamed: 30                     1 non-null       object \n",
      "dtypes: float64(7), int64(10), object(14)\n",
      "memory usage: 139.4+ MB\n"
     ]
    }
   ],
   "source": [
    "df_main.info()"
   ]
  },
  {
   "cell_type": "markdown",
   "id": "5fee4006",
   "metadata": {},
   "source": [
    "Check if there is a significant difference between the type of assessor: https://towardsdatascience.com/chi-square-test-for-independence-in-python-with-examples-from-the-ibm-hr-analytics-dataset-97b9ec9bb80a"
   ]
  },
  {
   "cell_type": "code",
   "execution_count": 7,
   "id": "4d7362dd",
   "metadata": {},
   "outputs": [],
   "source": [
    "df_chi = df_main[df_main['Year'] == 2019]\n",
    "df_chi = df_chi[['school_name', 'round_num', 'indicator', 'raw_score']]\n",
    "df_chi. rename(columns = {'round_num':'assessor'}, inplace = True)\n",
    "df_chi = df_chi.groupby(['school_name', 'assessor', 'indicator']).mean('raw_score').reset_index()\n",
    "df_chi['raw_score'] = np.where(df_chi['raw_score'] >= 7, \"A\", \n",
    "                            np.where(df_chi['raw_score'] >= 5, \"B\", \n",
    "                            np.where(df_chi['raw_score'] >= 3, \"C\", \n",
    "                            np.where(df_chi['raw_score'] >= 1, \"D\", \"None\"))))\n",
    "#df_chi = df_chi.groupby(['school_name', 'Year', 'indicator']).mean('raw_score').reset_index()\n",
    "#df_chi = df_chi.pivot(index='school_name', columns='indicator', values='raw_score').reset_index()"
   ]
  },
  {
   "cell_type": "code",
   "execution_count": 8,
   "id": "696b8c35",
   "metadata": {},
   "outputs": [
    {
     "data": {
      "text/plain": [
       "B    32755\n",
       "C    21371\n",
       "A    15233\n",
       "D     4857\n",
       "Name: raw_score, dtype: int64"
      ]
     },
     "execution_count": 8,
     "metadata": {},
     "output_type": "execute_result"
    }
   ],
   "source": [
    "df_chi['raw_score'].value_counts()"
   ]
  },
  {
   "cell_type": "code",
   "execution_count": 9,
   "id": "18939b8a",
   "metadata": {},
   "outputs": [],
   "source": [
    "df_test = df_chi[df_chi['indicator'] == 'Drop-out Rate']"
   ]
  },
  {
   "cell_type": "code",
   "execution_count": 10,
   "id": "9860c51b",
   "metadata": {},
   "outputs": [
    {
     "data": {
      "text/html": [
       "<div>\n",
       "<style scoped>\n",
       "    .dataframe tbody tr th:only-of-type {\n",
       "        vertical-align: middle;\n",
       "    }\n",
       "\n",
       "    .dataframe tbody tr th {\n",
       "        vertical-align: top;\n",
       "    }\n",
       "\n",
       "    .dataframe thead th {\n",
       "        text-align: right;\n",
       "    }\n",
       "</style>\n",
       "<table border=\"1\" class=\"dataframe\">\n",
       "  <thead>\n",
       "    <tr style=\"text-align: right;\">\n",
       "      <th></th>\n",
       "      <th>school_name</th>\n",
       "      <th>assessor</th>\n",
       "      <th>indicator</th>\n",
       "      <th>raw_score</th>\n",
       "    </tr>\n",
       "  </thead>\n",
       "  <tbody>\n",
       "    <tr>\n",
       "      <th>13</th>\n",
       "      <td>ABLAYAN ES</td>\n",
       "      <td>Community Assessment</td>\n",
       "      <td>Drop-out Rate</td>\n",
       "      <td>C</td>\n",
       "    </tr>\n",
       "    <tr>\n",
       "      <th>61</th>\n",
       "      <td>ABLAYAN ES</td>\n",
       "      <td>Site Validation</td>\n",
       "      <td>Drop-out Rate</td>\n",
       "      <td>C</td>\n",
       "    </tr>\n",
       "    <tr>\n",
       "      <th>109</th>\n",
       "      <td>ABUCAYAN ES</td>\n",
       "      <td>Community Assessment</td>\n",
       "      <td>Drop-out Rate</td>\n",
       "      <td>B</td>\n",
       "    </tr>\n",
       "    <tr>\n",
       "      <th>157</th>\n",
       "      <td>ABUCAYAN ES</td>\n",
       "      <td>Site Validation</td>\n",
       "      <td>Drop-out Rate</td>\n",
       "      <td>D</td>\n",
       "    </tr>\n",
       "    <tr>\n",
       "      <th>205</th>\n",
       "      <td>ABUGON ES</td>\n",
       "      <td>Community Assessment</td>\n",
       "      <td>Drop-out Rate</td>\n",
       "      <td>B</td>\n",
       "    </tr>\n",
       "    <tr>\n",
       "      <th>...</th>\n",
       "      <td>...</td>\n",
       "      <td>...</td>\n",
       "      <td>...</td>\n",
       "      <td>...</td>\n",
       "    </tr>\n",
       "    <tr>\n",
       "      <th>73989</th>\n",
       "      <td>caduawan ES</td>\n",
       "      <td>Site Validation</td>\n",
       "      <td>Drop-out Rate</td>\n",
       "      <td>B</td>\n",
       "    </tr>\n",
       "    <tr>\n",
       "      <th>74037</th>\n",
       "      <td>can-aga es</td>\n",
       "      <td>Community Assessment</td>\n",
       "      <td>Drop-out Rate</td>\n",
       "      <td>C</td>\n",
       "    </tr>\n",
       "    <tr>\n",
       "      <th>74085</th>\n",
       "      <td>catag PS</td>\n",
       "      <td>Community Assessment</td>\n",
       "      <td>Drop-out Rate</td>\n",
       "      <td>A</td>\n",
       "    </tr>\n",
       "    <tr>\n",
       "      <th>74133</th>\n",
       "      <td>catarman elementary school</td>\n",
       "      <td>Community Assessment</td>\n",
       "      <td>Drop-out Rate</td>\n",
       "      <td>D</td>\n",
       "    </tr>\n",
       "    <tr>\n",
       "      <th>74181</th>\n",
       "      <td>catarman elementary school</td>\n",
       "      <td>Site Validation</td>\n",
       "      <td>Drop-out Rate</td>\n",
       "      <td>D</td>\n",
       "    </tr>\n",
       "  </tbody>\n",
       "</table>\n",
       "<p>1546 rows × 4 columns</p>\n",
       "</div>"
      ],
      "text/plain": [
       "                      school_name              assessor      indicator  \\\n",
       "13                     ABLAYAN ES  Community Assessment  Drop-out Rate   \n",
       "61                     ABLAYAN ES       Site Validation  Drop-out Rate   \n",
       "109                   ABUCAYAN ES  Community Assessment  Drop-out Rate   \n",
       "157                   ABUCAYAN ES       Site Validation  Drop-out Rate   \n",
       "205                     ABUGON ES  Community Assessment  Drop-out Rate   \n",
       "...                           ...                   ...            ...   \n",
       "73989                 caduawan ES       Site Validation  Drop-out Rate   \n",
       "74037                  can-aga es  Community Assessment  Drop-out Rate   \n",
       "74085                    catag PS  Community Assessment  Drop-out Rate   \n",
       "74133  catarman elementary school  Community Assessment  Drop-out Rate   \n",
       "74181  catarman elementary school       Site Validation  Drop-out Rate   \n",
       "\n",
       "      raw_score  \n",
       "13            C  \n",
       "61            C  \n",
       "109           B  \n",
       "157           D  \n",
       "205           B  \n",
       "...         ...  \n",
       "73989         B  \n",
       "74037         C  \n",
       "74085         A  \n",
       "74133         D  \n",
       "74181         D  \n",
       "\n",
       "[1546 rows x 4 columns]"
      ]
     },
     "execution_count": 10,
     "metadata": {},
     "output_type": "execute_result"
    }
   ],
   "source": [
    "df_test"
   ]
  },
  {
   "cell_type": "code",
   "execution_count": 11,
   "id": "9fa663ab",
   "metadata": {},
   "outputs": [],
   "source": [
    "ct = pd.crosstab(df_test.assessor, df_test.raw_score, margins=True)"
   ]
  },
  {
   "cell_type": "code",
   "execution_count": 12,
   "id": "f756b27f",
   "metadata": {},
   "outputs": [
    {
     "name": "stdout",
     "output_type": "stream",
     "text": [
      "[287.7425614489004, 506.0058214747736, 226.6849935316947, 64.56662354463131, 122.25743855109961, 214.9941785252264, 96.3150064683053, 27.433376455368695]\n"
     ]
    }
   ],
   "source": [
    "row_sum = ct.iloc[0:2,4].values\n",
    "exp = []\n",
    "for j in range(2):\n",
    "    for val in ct.iloc[2,0:4].values:\n",
    "        exp.append(val * row_sum[j] / ct.loc['All', 'All'])\n",
    "print(exp)"
   ]
  },
  {
   "cell_type": "code",
   "execution_count": 13,
   "id": "c1d8501a",
   "metadata": {},
   "outputs": [
    {
     "data": {
      "text/plain": [
       "array([267, 532, 231,  55, 143, 189,  92,  37], dtype=int64)"
      ]
     },
     "execution_count": 13,
     "metadata": {},
     "output_type": "execute_result"
    }
   ],
   "source": [
    "obs = np.append(ct.iloc[0][0:4].values, ct.iloc[1][0:4].values)\n",
    "obs"
   ]
  },
  {
   "cell_type": "code",
   "execution_count": 14,
   "id": "f01a25d4",
   "metadata": {},
   "outputs": [
    {
     "data": {
      "text/plain": [
       "[287.7425614489004,\n",
       " 506.0058214747736,\n",
       " 226.6849935316947,\n",
       " 64.56662354463131,\n",
       " 122.25743855109961,\n",
       " 214.9941785252264,\n",
       " 96.3150064683053,\n",
       " 27.433376455368695]"
      ]
     },
     "execution_count": 14,
     "metadata": {},
     "output_type": "execute_result"
    }
   ],
   "source": [
    "row_sum = ct.iloc[0:2,4].values\n",
    "exp = []\n",
    "for j in range(2):\n",
    "    for val in ct.iloc[2,0:4].values:\n",
    "        exp.append(val * row_sum[j] / ct.loc['All', 'All'])\n",
    "exp"
   ]
  },
  {
   "cell_type": "code",
   "execution_count": 15,
   "id": "08756966",
   "metadata": {},
   "outputs": [
    {
     "data": {
      "text/plain": [
       "14.52173801348917"
      ]
     },
     "execution_count": 15,
     "metadata": {},
     "output_type": "execute_result"
    }
   ],
   "source": [
    "chi_sq_stats = ((obs - exp)**2/exp).sum()\n",
    "chi_sq_stats"
   ]
  },
  {
   "cell_type": "code",
   "execution_count": 16,
   "id": "1c601c55",
   "metadata": {},
   "outputs": [
    {
     "data": {
      "text/plain": [
       "3"
      ]
     },
     "execution_count": 16,
     "metadata": {},
     "output_type": "execute_result"
    }
   ],
   "source": [
    "dof = (len(row_sum)-1)*(len(ct.iloc[2,0:4].values)-1)\n",
    "dof"
   ]
  },
  {
   "cell_type": "code",
   "execution_count": 17,
   "id": "e0febfa2",
   "metadata": {},
   "outputs": [
    {
     "data": {
      "text/plain": [
       "0.002274515958943235"
      ]
     },
     "execution_count": 17,
     "metadata": {},
     "output_type": "execute_result"
    }
   ],
   "source": [
    "1 - stats.chi2.cdf(chi_sq_stats, dof)"
   ]
  },
  {
   "cell_type": "code",
   "execution_count": 18,
   "id": "49f6ad12",
   "metadata": {},
   "outputs": [
    {
     "data": {
      "text/plain": [
       "(14.52173801348917, 0.0022745159589431887, 3)"
      ]
     },
     "execution_count": 18,
     "metadata": {},
     "output_type": "execute_result"
    }
   ],
   "source": [
    "obs = np.array([ct.iloc[0][0:4].values,\n",
    "                  ct.iloc[1][0:4].values])\n",
    "stats.chi2_contingency(obs)[0:3]"
   ]
  },
  {
   "cell_type": "code",
   "execution_count": null,
   "id": "ca07a335",
   "metadata": {},
   "outputs": [],
   "source": []
  }
 ],
 "metadata": {
  "kernelspec": {
   "display_name": "Python 3 (ipykernel)",
   "language": "python",
   "name": "python3"
  },
  "language_info": {
   "codemirror_mode": {
    "name": "ipython",
    "version": 3
   },
   "file_extension": ".py",
   "mimetype": "text/x-python",
   "name": "python",
   "nbconvert_exporter": "python",
   "pygments_lexer": "ipython3",
   "version": "3.9.7"
  }
 },
 "nbformat": 4,
 "nbformat_minor": 5
}
